{
 "cells": [
  {
   "cell_type": "code",
   "execution_count": 1,
   "id": "42d200ea",
   "metadata": {},
   "outputs": [],
   "source": [
    "import numpy as np\n",
    "import pandas as pd\n",
    "from IPython.display import display\n",
    "from sklearn.model_selection import train_test_split"
   ]
  },
  {
   "cell_type": "code",
   "execution_count": 2,
   "id": "0bedc356",
   "metadata": {},
   "outputs": [],
   "source": [
    "df = pd.read_csv(\"vlagunr-Cyano.csv\")"
   ]
  },
  {
   "cell_type": "code",
   "execution_count": 4,
   "id": "a70fba50",
   "metadata": {},
   "outputs": [
    {
     "data": {
      "text/html": [
       "<div>\n",
       "<style scoped>\n",
       "    .dataframe tbody tr th:only-of-type {\n",
       "        vertical-align: middle;\n",
       "    }\n",
       "\n",
       "    .dataframe tbody tr th {\n",
       "        vertical-align: top;\n",
       "    }\n",
       "\n",
       "    .dataframe thead th {\n",
       "        text-align: right;\n",
       "    }\n",
       "</style>\n",
       "<table border=\"1\" class=\"dataframe\">\n",
       "  <thead>\n",
       "    <tr style=\"text-align: right;\">\n",
       "      <th></th>\n",
       "      <th>PSU</th>\n",
       "      <th>O2</th>\n",
       "      <th>temp.</th>\n",
       "      <th>SS</th>\n",
       "      <th>SRP</th>\n",
       "      <th>DOP</th>\n",
       "      <th>PP</th>\n",
       "      <th>NH4N</th>\n",
       "      <th>NO3N</th>\n",
       "      <th>DON</th>\n",
       "      <th>...</th>\n",
       "      <th>TN/TP</th>\n",
       "      <th>Fe</th>\n",
       "      <th>SiO4Si</th>\n",
       "      <th>ChlorophyceaeBiomassC</th>\n",
       "      <th>DiatomsBiomassC</th>\n",
       "      <th>PicoplanktonBiomassC</th>\n",
       "      <th>Windspeedinsitu</th>\n",
       "      <th>Depth</th>\n",
       "      <th>DIN to DIP</th>\n",
       "      <th>CyanobacteriaBiomassC</th>\n",
       "    </tr>\n",
       "  </thead>\n",
       "  <tbody>\n",
       "    <tr>\n",
       "      <th>0</th>\n",
       "      <td>3.758</td>\n",
       "      <td>9.46</td>\n",
       "      <td>18.3</td>\n",
       "      <td>52.00</td>\n",
       "      <td>3.5</td>\n",
       "      <td>11.7</td>\n",
       "      <td>185.0</td>\n",
       "      <td>0.039</td>\n",
       "      <td>0.022</td>\n",
       "      <td>0.551</td>\n",
       "      <td>...</td>\n",
       "      <td>6.848</td>\n",
       "      <td>0.012</td>\n",
       "      <td>2.311</td>\n",
       "      <td>0.508</td>\n",
       "      <td>0.018</td>\n",
       "      <td>0.691</td>\n",
       "      <td>3.5</td>\n",
       "      <td>3.3</td>\n",
       "      <td>17.429</td>\n",
       "      <td>0.429</td>\n",
       "    </tr>\n",
       "    <tr>\n",
       "      <th>1</th>\n",
       "      <td>3.505</td>\n",
       "      <td>9.89</td>\n",
       "      <td>19.1</td>\n",
       "      <td>50.00</td>\n",
       "      <td>4.4</td>\n",
       "      <td>17.5</td>\n",
       "      <td>111.3</td>\n",
       "      <td>0.020</td>\n",
       "      <td>0.025</td>\n",
       "      <td>0.123</td>\n",
       "      <td>...</td>\n",
       "      <td>10.128</td>\n",
       "      <td>0.014</td>\n",
       "      <td>2.116</td>\n",
       "      <td>0.473</td>\n",
       "      <td>0.001</td>\n",
       "      <td>0.522</td>\n",
       "      <td>0.0</td>\n",
       "      <td>3.6</td>\n",
       "      <td>10.227</td>\n",
       "      <td>1.085</td>\n",
       "    </tr>\n",
       "    <tr>\n",
       "      <th>2</th>\n",
       "      <td>3.758</td>\n",
       "      <td>9.66</td>\n",
       "      <td>18.1</td>\n",
       "      <td>59.00</td>\n",
       "      <td>3.2</td>\n",
       "      <td>22.8</td>\n",
       "      <td>103.4</td>\n",
       "      <td>0.016</td>\n",
       "      <td>0.008</td>\n",
       "      <td>0.582</td>\n",
       "      <td>...</td>\n",
       "      <td>9.134</td>\n",
       "      <td>0.037</td>\n",
       "      <td>2.264</td>\n",
       "      <td>0.271</td>\n",
       "      <td>0.021</td>\n",
       "      <td>0.538</td>\n",
       "      <td>1.0</td>\n",
       "      <td>3.4</td>\n",
       "      <td>7.500</td>\n",
       "      <td>1.734</td>\n",
       "    </tr>\n",
       "    <tr>\n",
       "      <th>3</th>\n",
       "      <td>3.107</td>\n",
       "      <td>10.36</td>\n",
       "      <td>19.5</td>\n",
       "      <td>46.00</td>\n",
       "      <td>4.3</td>\n",
       "      <td>22.3</td>\n",
       "      <td>92.7</td>\n",
       "      <td>0.026</td>\n",
       "      <td>0.021</td>\n",
       "      <td>0.693</td>\n",
       "      <td>...</td>\n",
       "      <td>11.978</td>\n",
       "      <td>0.017</td>\n",
       "      <td>2.262</td>\n",
       "      <td>0.458</td>\n",
       "      <td>0.122</td>\n",
       "      <td>0.655</td>\n",
       "      <td>0.0</td>\n",
       "      <td>2.9</td>\n",
       "      <td>10.930</td>\n",
       "      <td>0.814</td>\n",
       "    </tr>\n",
       "    <tr>\n",
       "      <th>4</th>\n",
       "      <td>2.619</td>\n",
       "      <td>11.56</td>\n",
       "      <td>19.0</td>\n",
       "      <td>42.00</td>\n",
       "      <td>11.7</td>\n",
       "      <td>30.3</td>\n",
       "      <td>73.2</td>\n",
       "      <td>0.022</td>\n",
       "      <td>0.048</td>\n",
       "      <td>0.383</td>\n",
       "      <td>...</td>\n",
       "      <td>12.665</td>\n",
       "      <td>0.024</td>\n",
       "      <td>2.216</td>\n",
       "      <td>0.328</td>\n",
       "      <td>0.085</td>\n",
       "      <td>0.182</td>\n",
       "      <td>0.0</td>\n",
       "      <td>3.0</td>\n",
       "      <td>5.983</td>\n",
       "      <td>1.133</td>\n",
       "    </tr>\n",
       "    <tr>\n",
       "      <th>...</th>\n",
       "      <td>...</td>\n",
       "      <td>...</td>\n",
       "      <td>...</td>\n",
       "      <td>...</td>\n",
       "      <td>...</td>\n",
       "      <td>...</td>\n",
       "      <td>...</td>\n",
       "      <td>...</td>\n",
       "      <td>...</td>\n",
       "      <td>...</td>\n",
       "      <td>...</td>\n",
       "      <td>...</td>\n",
       "      <td>...</td>\n",
       "      <td>...</td>\n",
       "      <td>...</td>\n",
       "      <td>...</td>\n",
       "      <td>...</td>\n",
       "      <td>...</td>\n",
       "      <td>...</td>\n",
       "      <td>...</td>\n",
       "      <td>...</td>\n",
       "    </tr>\n",
       "    <tr>\n",
       "      <th>150</th>\n",
       "      <td>3.700</td>\n",
       "      <td>9.86</td>\n",
       "      <td>16.2</td>\n",
       "      <td>112.50</td>\n",
       "      <td>9.7</td>\n",
       "      <td>21.4</td>\n",
       "      <td>186.3</td>\n",
       "      <td>0.040</td>\n",
       "      <td>0.052</td>\n",
       "      <td>0.838</td>\n",
       "      <td>...</td>\n",
       "      <td>7.157</td>\n",
       "      <td>0.040</td>\n",
       "      <td>2.953</td>\n",
       "      <td>0.465</td>\n",
       "      <td>0.176</td>\n",
       "      <td>1.162</td>\n",
       "      <td>7.0</td>\n",
       "      <td>3.1</td>\n",
       "      <td>9.485</td>\n",
       "      <td>1.364</td>\n",
       "    </tr>\n",
       "    <tr>\n",
       "      <th>151</th>\n",
       "      <td>4.500</td>\n",
       "      <td>9.93</td>\n",
       "      <td>16.3</td>\n",
       "      <td>117.50</td>\n",
       "      <td>23.9</td>\n",
       "      <td>30.3</td>\n",
       "      <td>191.5</td>\n",
       "      <td>0.033</td>\n",
       "      <td>0.029</td>\n",
       "      <td>0.406</td>\n",
       "      <td>...</td>\n",
       "      <td>6.711</td>\n",
       "      <td>0.050</td>\n",
       "      <td>2.904</td>\n",
       "      <td>0.381</td>\n",
       "      <td>0.153</td>\n",
       "      <td>0.845</td>\n",
       "      <td>8.5</td>\n",
       "      <td>3.2</td>\n",
       "      <td>2.594</td>\n",
       "      <td>0.900</td>\n",
       "    </tr>\n",
       "    <tr>\n",
       "      <th>152</th>\n",
       "      <td>4.600</td>\n",
       "      <td>10.02</td>\n",
       "      <td>16.2</td>\n",
       "      <td>115.00</td>\n",
       "      <td>31.4</td>\n",
       "      <td>32.4</td>\n",
       "      <td>37.8</td>\n",
       "      <td>0.024</td>\n",
       "      <td>0.024</td>\n",
       "      <td>0.549</td>\n",
       "      <td>...</td>\n",
       "      <td>10.561</td>\n",
       "      <td>0.031</td>\n",
       "      <td>2.665</td>\n",
       "      <td>0.246</td>\n",
       "      <td>0.116</td>\n",
       "      <td>0.848</td>\n",
       "      <td>10.2</td>\n",
       "      <td>3.3</td>\n",
       "      <td>1.529</td>\n",
       "      <td>0.971</td>\n",
       "    </tr>\n",
       "    <tr>\n",
       "      <th>153</th>\n",
       "      <td>4.500</td>\n",
       "      <td>9.93</td>\n",
       "      <td>16.3</td>\n",
       "      <td>113.75</td>\n",
       "      <td>7.1</td>\n",
       "      <td>20.6</td>\n",
       "      <td>223.2</td>\n",
       "      <td>0.021</td>\n",
       "      <td>0.032</td>\n",
       "      <td>0.482</td>\n",
       "      <td>...</td>\n",
       "      <td>5.369</td>\n",
       "      <td>0.019</td>\n",
       "      <td>2.967</td>\n",
       "      <td>0.129</td>\n",
       "      <td>0.164</td>\n",
       "      <td>0.529</td>\n",
       "      <td>9.5</td>\n",
       "      <td>3.4</td>\n",
       "      <td>7.465</td>\n",
       "      <td>0.679</td>\n",
       "    </tr>\n",
       "    <tr>\n",
       "      <th>154</th>\n",
       "      <td>4.200</td>\n",
       "      <td>10.30</td>\n",
       "      <td>16.0</td>\n",
       "      <td>102.50</td>\n",
       "      <td>19.5</td>\n",
       "      <td>58.8</td>\n",
       "      <td>97.1</td>\n",
       "      <td>0.027</td>\n",
       "      <td>0.048</td>\n",
       "      <td>0.572</td>\n",
       "      <td>...</td>\n",
       "      <td>5.855</td>\n",
       "      <td>0.038</td>\n",
       "      <td>2.875</td>\n",
       "      <td>0.142</td>\n",
       "      <td>0.143</td>\n",
       "      <td>0.872</td>\n",
       "      <td>10.5</td>\n",
       "      <td>3.3</td>\n",
       "      <td>3.846</td>\n",
       "      <td>0.809</td>\n",
       "    </tr>\n",
       "  </tbody>\n",
       "</table>\n",
       "<p>155 rows × 21 columns</p>\n",
       "</div>"
      ],
      "text/plain": [
       "       PSU     O2  temp.      SS   SRP   DOP     PP   NH4N   NO3N    DON  ...  \\\n",
       "0    3.758   9.46   18.3   52.00   3.5  11.7  185.0  0.039  0.022  0.551  ...   \n",
       "1    3.505   9.89   19.1   50.00   4.4  17.5  111.3  0.020  0.025  0.123  ...   \n",
       "2    3.758   9.66   18.1   59.00   3.2  22.8  103.4  0.016  0.008  0.582  ...   \n",
       "3    3.107  10.36   19.5   46.00   4.3  22.3   92.7  0.026  0.021  0.693  ...   \n",
       "4    2.619  11.56   19.0   42.00  11.7  30.3   73.2  0.022  0.048  0.383  ...   \n",
       "..     ...    ...    ...     ...   ...   ...    ...    ...    ...    ...  ...   \n",
       "150  3.700   9.86   16.2  112.50   9.7  21.4  186.3  0.040  0.052  0.838  ...   \n",
       "151  4.500   9.93   16.3  117.50  23.9  30.3  191.5  0.033  0.029  0.406  ...   \n",
       "152  4.600  10.02   16.2  115.00  31.4  32.4   37.8  0.024  0.024  0.549  ...   \n",
       "153  4.500   9.93   16.3  113.75   7.1  20.6  223.2  0.021  0.032  0.482  ...   \n",
       "154  4.200  10.30   16.0  102.50  19.5  58.8   97.1  0.027  0.048  0.572  ...   \n",
       "\n",
       "      TN/TP     Fe  SiO4Si  ChlorophyceaeBiomassC  DiatomsBiomassC  \\\n",
       "0     6.848  0.012   2.311                  0.508            0.018   \n",
       "1    10.128  0.014   2.116                  0.473            0.001   \n",
       "2     9.134  0.037   2.264                  0.271            0.021   \n",
       "3    11.978  0.017   2.262                  0.458            0.122   \n",
       "4    12.665  0.024   2.216                  0.328            0.085   \n",
       "..      ...    ...     ...                    ...              ...   \n",
       "150   7.157  0.040   2.953                  0.465            0.176   \n",
       "151   6.711  0.050   2.904                  0.381            0.153   \n",
       "152  10.561  0.031   2.665                  0.246            0.116   \n",
       "153   5.369  0.019   2.967                  0.129            0.164   \n",
       "154   5.855  0.038   2.875                  0.142            0.143   \n",
       "\n",
       "     PicoplanktonBiomassC  Windspeedinsitu  Depth  DIN to DIP  \\\n",
       "0                   0.691              3.5    3.3      17.429   \n",
       "1                   0.522              0.0    3.6      10.227   \n",
       "2                   0.538              1.0    3.4       7.500   \n",
       "3                   0.655              0.0    2.9      10.930   \n",
       "4                   0.182              0.0    3.0       5.983   \n",
       "..                    ...              ...    ...         ...   \n",
       "150                 1.162              7.0    3.1       9.485   \n",
       "151                 0.845              8.5    3.2       2.594   \n",
       "152                 0.848             10.2    3.3       1.529   \n",
       "153                 0.529              9.5    3.4       7.465   \n",
       "154                 0.872             10.5    3.3       3.846   \n",
       "\n",
       "     CyanobacteriaBiomassC  \n",
       "0                    0.429  \n",
       "1                    1.085  \n",
       "2                    1.734  \n",
       "3                    0.814  \n",
       "4                    1.133  \n",
       "..                     ...  \n",
       "150                  1.364  \n",
       "151                  0.900  \n",
       "152                  0.971  \n",
       "153                  0.679  \n",
       "154                  0.809  \n",
       "\n",
       "[155 rows x 21 columns]"
      ]
     },
     "metadata": {},
     "output_type": "display_data"
    }
   ],
   "source": [
    "display(df.head(155))"
   ]
  },
  {
   "cell_type": "code",
   "execution_count": 137,
   "id": "ab76049e",
   "metadata": {},
   "outputs": [
    {
     "name": "stdout",
     "output_type": "stream",
     "text": [
      "#Training data points: 108\n",
      "#Testing data points: 47\n",
      "#Class: [0 1]\n"
     ]
    }
   ],
   "source": [
    "print(f\"#Training data points: {X_train.shape[0]}\")\n",
    "print(f\"#Testing data points: {X_test.shape[0]}\")\n",
    "print(f\"#Class: {np.unique(y)}\")"
   ]
  },
  {
   "cell_type": "code",
   "execution_count": 138,
   "id": "e8f2351a",
   "metadata": {},
   "outputs": [
    {
     "name": "stdout",
     "output_type": "stream",
     "text": [
      "Misclassified samples: 13\n",
      "Test dataset Accuracy (tree): 0.72\n"
     ]
    }
   ],
   "source": [
    "from sklearn.tree import DecisionTreeClassifier\n",
    "tree = DecisionTreeClassifier(criterion = 'entropy',\n",
    "                             max_depth=3,\n",
    "                             min_samples_leaf=5,\n",
    "                             random_state=0)\n",
    "\n",
    "tree.fit(X_train, y_train)\n",
    "y_pred = tree.predict(X_test)\n",
    "print(f\"Misclassified samples: {(y_test != y_pred).sum()}\")\n",
    "print(f'Test dataset Accuracy (tree): {round((y_test == y_pred).sum()/y_test.shape[0],2)}')"
   ]
  },
  {
   "cell_type": "code",
   "execution_count": 139,
   "id": "c631637a",
   "metadata": {},
   "outputs": [
    {
     "name": "stdout",
     "output_type": "stream",
     "text": [
      "Misclassified samples: 21\n",
      "Train dataset Accuracy (tree): 0.81\n"
     ]
    }
   ],
   "source": [
    "from sklearn.tree import DecisionTreeClassifier\n",
    "tree = DecisionTreeClassifier(criterion = 'entropy',\n",
    "                             max_depth=3,\n",
    "                             min_samples_leaf=5,\n",
    "                             random_state=0)\n",
    "\n",
    "tree.fit(X_train, y_train)\n",
    "y_pred = tree.predict(X_train)\n",
    "print(f\"Misclassified samples: {(y_train != y_pred).sum()}\")\n",
    "print(f'Train dataset Accuracy (tree): {round((y_train == y_pred).sum()/y_train.shape[0],2)}')"
   ]
  },
  {
   "cell_type": "code",
   "execution_count": 140,
   "id": "49733ba8",
   "metadata": {},
   "outputs": [],
   "source": [
    "from sklearn.tree import export_graphviz\n",
    "\n",
    "export_graphviz(tree,\n",
    "               out_file=\"tree.dot\",\n",
    "               feature_names=X.columns.values)"
   ]
  },
  {
   "cell_type": "code",
   "execution_count": 141,
   "id": "4cb2e25d",
   "metadata": {},
   "outputs": [
    {
     "data": {
      "text/html": [
       "<style>#sk-container-id-5 {color: black;background-color: white;}#sk-container-id-5 pre{padding: 0;}#sk-container-id-5 div.sk-toggleable {background-color: white;}#sk-container-id-5 label.sk-toggleable__label {cursor: pointer;display: block;width: 100%;margin-bottom: 0;padding: 0.3em;box-sizing: border-box;text-align: center;}#sk-container-id-5 label.sk-toggleable__label-arrow:before {content: \"▸\";float: left;margin-right: 0.25em;color: #696969;}#sk-container-id-5 label.sk-toggleable__label-arrow:hover:before {color: black;}#sk-container-id-5 div.sk-estimator:hover label.sk-toggleable__label-arrow:before {color: black;}#sk-container-id-5 div.sk-toggleable__content {max-height: 0;max-width: 0;overflow: hidden;text-align: left;background-color: #f0f8ff;}#sk-container-id-5 div.sk-toggleable__content pre {margin: 0.2em;color: black;border-radius: 0.25em;background-color: #f0f8ff;}#sk-container-id-5 input.sk-toggleable__control:checked~div.sk-toggleable__content {max-height: 200px;max-width: 100%;overflow: auto;}#sk-container-id-5 input.sk-toggleable__control:checked~label.sk-toggleable__label-arrow:before {content: \"▾\";}#sk-container-id-5 div.sk-estimator input.sk-toggleable__control:checked~label.sk-toggleable__label {background-color: #d4ebff;}#sk-container-id-5 div.sk-label input.sk-toggleable__control:checked~label.sk-toggleable__label {background-color: #d4ebff;}#sk-container-id-5 input.sk-hidden--visually {border: 0;clip: rect(1px 1px 1px 1px);clip: rect(1px, 1px, 1px, 1px);height: 1px;margin: -1px;overflow: hidden;padding: 0;position: absolute;width: 1px;}#sk-container-id-5 div.sk-estimator {font-family: monospace;background-color: #f0f8ff;border: 1px dotted black;border-radius: 0.25em;box-sizing: border-box;margin-bottom: 0.5em;}#sk-container-id-5 div.sk-estimator:hover {background-color: #d4ebff;}#sk-container-id-5 div.sk-parallel-item::after {content: \"\";width: 100%;border-bottom: 1px solid gray;flex-grow: 1;}#sk-container-id-5 div.sk-label:hover label.sk-toggleable__label {background-color: #d4ebff;}#sk-container-id-5 div.sk-serial::before {content: \"\";position: absolute;border-left: 1px solid gray;box-sizing: border-box;top: 0;bottom: 0;left: 50%;z-index: 0;}#sk-container-id-5 div.sk-serial {display: flex;flex-direction: column;align-items: center;background-color: white;padding-right: 0.2em;padding-left: 0.2em;position: relative;}#sk-container-id-5 div.sk-item {position: relative;z-index: 1;}#sk-container-id-5 div.sk-parallel {display: flex;align-items: stretch;justify-content: center;background-color: white;position: relative;}#sk-container-id-5 div.sk-item::before, #sk-container-id-5 div.sk-parallel-item::before {content: \"\";position: absolute;border-left: 1px solid gray;box-sizing: border-box;top: 0;bottom: 0;left: 50%;z-index: -1;}#sk-container-id-5 div.sk-parallel-item {display: flex;flex-direction: column;z-index: 1;position: relative;background-color: white;}#sk-container-id-5 div.sk-parallel-item:first-child::after {align-self: flex-end;width: 50%;}#sk-container-id-5 div.sk-parallel-item:last-child::after {align-self: flex-start;width: 50%;}#sk-container-id-5 div.sk-parallel-item:only-child::after {width: 0;}#sk-container-id-5 div.sk-dashed-wrapped {border: 1px dashed gray;margin: 0 0.4em 0.5em 0.4em;box-sizing: border-box;padding-bottom: 0.4em;background-color: white;}#sk-container-id-5 div.sk-label label {font-family: monospace;font-weight: bold;display: inline-block;line-height: 1.2em;}#sk-container-id-5 div.sk-label-container {text-align: center;}#sk-container-id-5 div.sk-container {/* jupyter's `normalize.less` sets `[hidden] { display: none; }` but bootstrap.min.css set `[hidden] { display: none !important; }` so we also need the `!important` here to be able to override the default hidden behavior on the sphinx rendered scikit-learn.org. See: https://github.com/scikit-learn/scikit-learn/issues/21755 */display: inline-block !important;position: relative;}#sk-container-id-5 div.sk-text-repr-fallback {display: none;}</style><div id=\"sk-container-id-5\" class=\"sk-top-container\"><div class=\"sk-text-repr-fallback\"><pre>RandomForestClassifier(criterion=&#x27;entropy&#x27;, n_estimators=200, n_jobs=2,\n",
       "                       random_state=1)</pre><b>In a Jupyter environment, please rerun this cell to show the HTML representation or trust the notebook. <br />On GitHub, the HTML representation is unable to render, please try loading this page with nbviewer.org.</b></div><div class=\"sk-container\" hidden><div class=\"sk-item\"><div class=\"sk-estimator sk-toggleable\"><input class=\"sk-toggleable__control sk-hidden--visually\" id=\"sk-estimator-id-5\" type=\"checkbox\" checked><label for=\"sk-estimator-id-5\" class=\"sk-toggleable__label sk-toggleable__label-arrow\">RandomForestClassifier</label><div class=\"sk-toggleable__content\"><pre>RandomForestClassifier(criterion=&#x27;entropy&#x27;, n_estimators=200, n_jobs=2,\n",
       "                       random_state=1)</pre></div></div></div></div></div>"
      ],
      "text/plain": [
       "RandomForestClassifier(criterion='entropy', n_estimators=200, n_jobs=2,\n",
       "                       random_state=1)"
      ]
     },
     "execution_count": 141,
     "metadata": {},
     "output_type": "execute_result"
    }
   ],
   "source": [
    "from sklearn.ensemble import RandomForestClassifier\n",
    "forest = RandomForestClassifier(criterion='entropy',\n",
    "                               n_estimators=200,\n",
    "                               random_state=1,\n",
    "                               n_jobs=2)\n",
    "\n",
    "forest.fit(X_train, y_train)"
   ]
  },
  {
   "cell_type": "code",
   "execution_count": 142,
   "id": "3c1655c5",
   "metadata": {},
   "outputs": [
    {
     "name": "stdout",
     "output_type": "stream",
     "text": [
      "Test dataset Accuracy (forest): 0.77\n"
     ]
    }
   ],
   "source": [
    "from sklearn.metrics import accuracy_score\n",
    "y_pred=forest.predict(X_test)\n",
    "print(f'Test dataset Accuracy (forest): {round(accuracy_score(y_test, y_pred),2)}')"
   ]
  },
  {
   "cell_type": "code",
   "execution_count": 143,
   "id": "5e3f356e",
   "metadata": {},
   "outputs": [
    {
     "name": "stdout",
     "output_type": "stream",
     "text": [
      "Train dataset Accuracy (forest): 1.0\n"
     ]
    }
   ],
   "source": [
    "y_pred=forest.predict(X_train)\n",
    "print(f'Train dataset Accuracy (forest): {round(accuracy_score(y_train, y_pred),2)}')"
   ]
  },
  {
   "cell_type": "code",
   "execution_count": 144,
   "id": "95e034ed",
   "metadata": {},
   "outputs": [
    {
     "name": "stdout",
     "output_type": "stream",
     "text": [
      " 1) Nauplii Cyclopoida   0.087723\n",
      " 2) Cyclops sp.          0.072056\n",
      " 3) Depth                0.068339\n",
      " 4) DON                  0.053796\n",
      " 5) PSU                  0.042186\n",
      " 6) DOP                  0.037714\n",
      " 7) O2                   0.036068\n",
      " 8) DOC                  0.035916\n",
      " 9) Cyanobacteria        0.031511\n",
      "10) Acartia tonsa        0.029091\n",
      "11) TN/TP                0.027812\n",
      "12) Keratella cochlearis cochlearis 0.027801\n",
      "13) temp.                0.027305\n",
      "14) SS                   0.026483\n",
      "15) PP                   0.024106\n",
      "16) SRP                  0.023878\n",
      "17) PN                   0.023749\n",
      "18) Diatomophyceae       0.023105\n",
      "19) Chlorophyceae        0.022410\n",
      "20) picophytoplankton    0.021967\n",
      "21) Keratella cochlearis f.tecta 0.021755\n",
      "22) TPOC                 0.021634\n",
      "23) SiO4Si               0.021333\n",
      "24) Filinia longiseta    0.020858\n",
      "25) NH4N                 0.020450\n",
      "26) NO3N                 0.020062\n",
      "27) Diaphanosoma brachyurum 0.018839\n",
      "28) Flagellata           0.017923\n",
      "29) Fe                   0.015881\n",
      "30) Windspeedinsitu      0.015663\n",
      "31) Eurytemora affinis   0.014038\n",
      "32) Acartia longiremis   0.013748\n",
      "33) Euglenophyceae       0.012616\n",
      "34) Nauplii Calanoida    0.012161\n",
      "35) Keratella quadrata   0.010024\n"
     ]
    }
   ],
   "source": [
    "import numpy as np\n",
    "import matplotlib.pyplot as plt\n",
    "importances = forest.feature_importances_\n",
    "\n",
    "indices = np.argsort(importances)[::-1]\n",
    "\n",
    "for f in range(X_train.shape[1]):\n",
    "    print(\"%2d) %-*s %f\" % (f+1,\n",
    "                           20,\n",
    "                           X.columns.values[indices[f]],\n",
    "                           importances[indices[f]]))"
   ]
  },
  {
   "cell_type": "code",
   "execution_count": 145,
   "id": "11331e4c",
   "metadata": {},
   "outputs": [
    {
     "data": {
      "image/png": "[encoded data removed]",
      "text/plain": [
       "<Figure size 640x480 with 1 Axes>"
      ]
     },
     "metadata": {},
     "output_type": "display_data"
    }
   ],
   "source": [
    "plt.figure()\n",
    "plt.title('Feature Importances')\n",
    "plt.bar(range(X_train.shape[1]),\n",
    "       importances[indices],\n",
    "       align='center',\n",
    "       alpha=.5)\n",
    "\n",
    "plt.xticks(range(X_train.shape[1]),\n",
    "           X.columns.values[indices], rotation=90)\n",
    "plt.tight_layout()\n",
    "plt.savefig(\"fig-forest-feature-importances.png\", dpi=300)\n",
    "plt.show()"
   ]
  },
  {
   "cell_type": "code",
   "execution_count": 146,
   "id": "6cc4abeb",
   "metadata": {},
   "outputs": [
    {
     "data": {
      "image/png": "[encoded data removed]",
      "text/plain": [
       "<Figure size 640x480 with 1 Axes>"
      ]
     },
     "metadata": {},
     "output_type": "display_data"
    }
   ],
   "source": [
    "Z_forest = X[['Nauplii Cyclopoida','Cyclops sp.']].values\n",
    "\n",
    "colors = ['r', 'b', 'g', 'k']\n",
    "markers = ['s', 'x', 'o', '^']\n",
    "for l, c, m in zip(np.unique(y.values), colors, markers):\n",
    "    plt.scatter(Z_forest[y.values==l,0],\n",
    "               Z_forest[y.values==l,1],\n",
    "               c=c, label=l, marker=m)\n",
    "    \n",
    "plt.title('Z_forest')\n",
    "plt.xlabel(\"Nauplii Cyclopoida\")\n",
    "plt.ylabel('Cyclops sp.')\n",
    "plt.legend(loc='lower right')\n",
    "plt.tight_layout()\n",
    "plt.savefig(\"fig-forest-z.png\", dpi=300)\n",
    "plt.show()"
   ]
  },
  {
   "cell_type": "code",
   "execution_count": 147,
   "id": "37015f38",
   "metadata": {},
   "outputs": [
    {
     "name": "stdout",
     "output_type": "stream",
     "text": [
      "Test dataset Accuracy (tree_forest): 0.68\n"
     ]
    }
   ],
   "source": [
    "Z_forest_train, Z_forest_test, y_forest_train, y_forest_test = train_test_split(\n",
    "Z_forest, y, test_size=0.3, random_state=0)\n",
    "\n",
    "tree_forest = DecisionTreeClassifier(criterion='entropy',\n",
    "                                    max_depth=10, min_samples_leaf=5,\n",
    "                                    random_state=0)\n",
    "tree_forest.fit(Z_forest_train, y_forest_train)\n",
    "\n",
    "y_forest_pred = tree_forest.predict(Z_forest_test)\n",
    "print(f\"Test dataset Accuracy (tree_forest): {round(accuracy_score(y_forest_test, y_forest_pred),2)}\")"
   ]
  },
  {
   "cell_type": "code",
   "execution_count": 148,
   "id": "38e8c3d2",
   "metadata": {},
   "outputs": [
    {
     "name": "stdout",
     "output_type": "stream",
     "text": [
      "Train dataset Accuracy (tree_forest): 0.8\n"
     ]
    }
   ],
   "source": [
    "Z_forest_train, Z_forest_test, y_forest_train, y_forest_test = train_test_split(\n",
    "Z_forest, y, test_size=0.3, random_state=0)\n",
    "\n",
    "tree_forest = DecisionTreeClassifier(criterion='entropy',\n",
    "                                    max_depth=10, min_samples_leaf=5,\n",
    "                                    random_state=0)\n",
    "tree_forest.fit(Z_forest_train, y_forest_train)\n",
    "\n",
    "y_forest_pred = tree_forest.predict(Z_forest_train)\n",
    "print(f\"Train dataset Accuracy (tree_forest): {round(accuracy_score(y_forest_train, y_forest_pred),2)}\")"
   ]
  },
  {
   "cell_type": "code",
   "execution_count": 149,
   "id": "5da9ed77",
   "metadata": {},
   "outputs": [
    {
     "name": "stdout",
     "output_type": "stream",
     "text": [
      " 1) Nauplii Cyclopoida   0.087723\n"
     ]
    },
    {
     "name": "stderr",
     "output_type": "stream",
     "text": [
      "C:\\Users\\adamz\\miniconda3\\lib\\site-packages\\sklearn\\base.py:432: UserWarning: X has feature names, but SelectFromModel was fitted without feature names\n",
      "  warnings.warn(\n"
     ]
    }
   ],
   "source": [
    "from sklearn.feature_selection import SelectFromModel\n",
    "sfm = SelectFromModel(forest, threshold=.075, prefit=True)\n",
    "Z_forest_alt = sfm.transform(X)\n",
    "\n",
    "for f in range(Z_forest_alt.shape[1]):\n",
    "    print(\"%2d) %-*s %f\" % (f+1,\n",
    "                           20,\n",
    "                           X.columns.values[indices[f]],\n",
    "                           importances[indices[f]]))"
   ]
  },
  {
   "cell_type": "code",
   "execution_count": 150,
   "id": "bfc1d757",
   "metadata": {},
   "outputs": [
    {
     "name": "stdout",
     "output_type": "stream",
     "text": [
      "Test dataset Accuracy (forest_forest): 0.72\n"
     ]
    }
   ],
   "source": [
    "forest_forest = RandomForestClassifier(criterion='entropy',\n",
    "                               n_estimators=200,\n",
    "                               random_state=1,\n",
    "                               n_jobs=2)\n",
    "\n",
    "forest_forest.fit(Z_forest_train, y_forest_train)\n",
    "\n",
    "y_forest_pred=forest_forest.predict(Z_forest_test)\n",
    "print(f'Test dataset Accuracy (forest_forest): {round(accuracy_score(y_forest_test, y_forest_pred),2)}')"
   ]
  },
  {
   "cell_type": "code",
   "execution_count": 151,
   "id": "0ba7f382",
   "metadata": {},
   "outputs": [
    {
     "name": "stdout",
     "output_type": "stream",
     "text": [
      "Train dataset Accuracy (forest_forest): 0.98\n"
     ]
    }
   ],
   "source": [
    "forest_forest = RandomForestClassifier(criterion='entropy',\n",
    "                               n_estimators=200,\n",
    "                               random_state=1,\n",
    "                               n_jobs=2)\n",
    "\n",
    "forest_forest.fit(Z_forest_train, y_forest_train)\n",
    "\n",
    "y_forest_pred=forest_forest.predict(Z_forest_train)\n",
    "print(f'Train dataset Accuracy (forest_forest): {round(accuracy_score(y_forest_train, y_forest_pred),2)}')"
   ]
  },
  {
   "cell_type": "code",
   "execution_count": 152,
   "id": "54a14c76",
   "metadata": {},
   "outputs": [],
   "source": [
    "from matplotlib.colors import ListedColormap\n",
    "\n",
    "def plot_decision_region(X, y, classifier, test_idx=None, resolution=.02):\n",
    "    \n",
    "    markers = ('s', 'x', 'o', '^', 'v')\n",
    "    colors = ('red', 'blue', 'lightgreen', 'gray', 'cyan')\n",
    "    cmap=ListedColormap(colors[: len(np.unique(y))])\n",
    "    \n",
    "    x1_min, x1_max = X[:, 0].min()-1, X[:,0].max()-1\n",
    "    x2_min, x2_max = X[:, 1].min()-1, X[:,1].max()-1\n",
    "    xx1, xx2 = np.meshgrid(np.arange(x1_min, x1_max, resolution),\n",
    "                          np.arange(x2_min, x2_max, resolution))\n",
    "    \n",
    "    Z = classifier.predict(np.array([xx1.ravel(), xx2.ravel()]).T)\n",
    "    Z = Z.reshape(xx1.shape)\n",
    "    plt.contourf(xx1, xx2, Z, aplha=.4, cmap=cmap)\n",
    "    plt.xlim(xx1.min(), xx1.max())\n",
    "    plt.ylim(xx2.min(), xx2.max())\n",
    "    \n",
    "    for idx, cl in enumerate(np.unique(y)):\n",
    "        plt.scatter(\n",
    "        x= X[y==cl,0],\n",
    "        y = X[y==cl,1],\n",
    "        alpha=.8,\n",
    "        c=[cmap(idx)],\n",
    "        marker = markers[idx],\n",
    "        label = cl)\n",
    "        \n",
    "    if test_idx:\n",
    "        X_test, y_test = X[test_idx, :], y[test_idx]\n",
    "        \n",
    "        plt.scatter(X_test[:,0],\n",
    "                   X_test[:,1],\n",
    "                   c='c',\n",
    "                   alpha=1,\n",
    "                   linewidths=1,\n",
    "                   marker='o',\n",
    "                   s=55, label='test set', edgecolors='k')"
   ]
  },
  {
   "cell_type": "code",
   "execution_count": 153,
   "id": "d1b041f0",
   "metadata": {},
   "outputs": [
    {
     "name": "stderr",
     "output_type": "stream",
     "text": [
      "C:\\Users\\adamz\\AppData\\Local\\Temp\\ipykernel_30164\\1193708971.py:16: UserWarning: The following kwargs were not used by contour: 'aplha'\n",
      "  plt.contourf(xx1, xx2, Z, aplha=.4, cmap=cmap)\n"
     ]
    },
    {
     "data": {
      "image/png": "[encoded data removed]",
      "text/plain": [
       "<Figure size 640x480 with 1 Axes>"
      ]
     },
     "metadata": {},
     "output_type": "display_data"
    }
   ],
   "source": [
    "Z_forest_combined = np.vstack((Z_forest_train, Z_forest_test))\n",
    "y_forest_combined = np.hstack((y_forest_train, y_forest_test))\n",
    "plot_decision_region(Z_forest_combined,\n",
    "                     y_forest_combined,\n",
    "                     classifier = tree_forest,\n",
    "                     test_idx=range(y_forest_train.shape[0],\n",
    "                                   y_forest_train.shape[0]+y_forest_test.shape[0]))\n",
    "\n",
    "plt.title(\"Tree_forest\")\n",
    "plt.xlabel('Nauplii Cyclopoida')\n",
    "plt.ylabel('Cyclops sp.')\n",
    "plt.legend(loc='lower right')\n",
    "plt.tight_layout()\n",
    "\n",
    "plt.show()"
   ]
  },
  {
   "cell_type": "code",
   "execution_count": 154,
   "id": "ec4cca04",
   "metadata": {},
   "outputs": [
    {
     "name": "stderr",
     "output_type": "stream",
     "text": [
      "C:\\Users\\adamz\\AppData\\Local\\Temp\\ipykernel_30164\\1193708971.py:16: UserWarning: The following kwargs were not used by contour: 'aplha'\n",
      "  plt.contourf(xx1, xx2, Z, aplha=.4, cmap=cmap)\n"
     ]
    },
    {
     "data": {
      "image/png": "[encoded data removed]",
      "text/plain": [
       "<Figure size 640x480 with 1 Axes>"
      ]
     },
     "metadata": {},
     "output_type": "display_data"
    }
   ],
   "source": [
    "plot_decision_region(Z_forest_combined,\n",
    "                     y_forest_combined,\n",
    "                     classifier = forest_forest,\n",
    "                     test_idx=range(y_forest_train.shape[0],\n",
    "                                   y_forest_train.shape[0]+y_forest_test.shape[0]))\n",
    "\n",
    "plt.title(\"Forest_forest\")\n",
    "plt.xlabel('Nauplii Cyclopoida')\n",
    "plt.ylabel('Cyclops sp.')\n",
    "plt.legend(loc='lower right')\n",
    "plt.tight_layout()\n",
    "\n",
    "plt.show()"
   ]
  },
  {
   "cell_type": "markdown",
   "id": "6374ac7c",
   "metadata": {},
   "source": [
    "# Najlepszy jest RandomForestClassifier\n",
    "Test accuracy **72%**\n",
    "Train accuracy **98%**"
   ]
  }
 ],
 "metadata": {
  "kernelspec": {
   "display_name": "Python 3 (ipykernel)",
   "language": "python",
   "name": "python3"
  },
  "language_info": {
   "codemirror_mode": {
    "name": "ipython",
    "version": 3
   },
   "file_extension": ".py",
   "mimetype": "text/x-python",
   "name": "python",
   "nbconvert_exporter": "python",
   "pygments_lexer": "ipython3",
   "version": "3.10.11"
  }
 },
 "nbformat": 4,
 "nbformat_minor": 5
}

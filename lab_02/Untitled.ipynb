{
 "cells": [
  {
   "cell_type": "code",
   "execution_count": 1,
   "id": "e5b90c3a",
   "metadata": {},
   "outputs": [],
   "source": [
    "import pandas as pd\n",
    "import numpy as np\n",
    "import matplotlib.pyplot as plt\n",
    "import seaborn as seabornInstance\n",
    "from sklearn.model_selection import train_test_split\n",
    "from sklearn.linear_model import LinearRegression\n",
    "from sklearn import metrics"
   ]
  },
  {
   "cell_type": "code",
   "execution_count": 2,
   "id": "a516fb4e",
   "metadata": {},
   "outputs": [],
   "source": [
    "dataset = pd.read_csv(\"Kruk_VLagun_156.csv\")"
   ]
  },
  {
   "cell_type": "code",
   "execution_count": 6,
   "id": "89b5be2f",
   "metadata": {},
   "outputs": [
    {
     "data": {
      "text/plain": [
       "(156, 30)"
      ]
     },
     "execution_count": 6,
     "metadata": {},
     "output_type": "execute_result"
    }
   ],
   "source": [
    "dataset.shape"
   ]
  },
  {
   "cell_type": "code",
   "execution_count": 39,
   "id": "4b00af76",
   "metadata": {},
   "outputs": [
    {
     "data": {
      "text/html": [
       "<div>\n",
       "<style scoped>\n",
       "    .dataframe tbody tr th:only-of-type {\n",
       "        vertical-align: middle;\n",
       "    }\n",
       "\n",
       "    .dataframe tbody tr th {\n",
       "        vertical-align: top;\n",
       "    }\n",
       "\n",
       "    .dataframe thead th {\n",
       "        text-align: right;\n",
       "    }\n",
       "</style>\n",
       "<table border=\"1\" class=\"dataframe\">\n",
       "  <thead>\n",
       "    <tr style=\"text-align: right;\">\n",
       "      <th></th>\n",
       "      <th>PSU</th>\n",
       "      <th>O2</th>\n",
       "      <th>SecchDisc</th>\n",
       "      <th>temp.</th>\n",
       "      <th>SS</th>\n",
       "      <th>chla</th>\n",
       "      <th>SRP</th>\n",
       "      <th>DOP</th>\n",
       "      <th>PP</th>\n",
       "      <th>TP</th>\n",
       "      <th>...</th>\n",
       "      <th>DOC</th>\n",
       "      <th>TPOC</th>\n",
       "      <th>PhytoBiomassC</th>\n",
       "      <th>CyanobacteriaBiomassC</th>\n",
       "      <th>ChlorophyceaeBiomassC</th>\n",
       "      <th>DiatomsBiomassC</th>\n",
       "      <th>PicoplanktonBiomassC</th>\n",
       "      <th>Airtemperature</th>\n",
       "      <th>Windspeedinsitu</th>\n",
       "      <th>Depth</th>\n",
       "    </tr>\n",
       "  </thead>\n",
       "  <tbody>\n",
       "    <tr>\n",
       "      <th>count</th>\n",
       "      <td>156.000000</td>\n",
       "      <td>156.000000</td>\n",
       "      <td>156.000000</td>\n",
       "      <td>156.000000</td>\n",
       "      <td>156.000000</td>\n",
       "      <td>156.000000</td>\n",
       "      <td>156.000000</td>\n",
       "      <td>156.000000</td>\n",
       "      <td>156.000000</td>\n",
       "      <td>156.000000</td>\n",
       "      <td>...</td>\n",
       "      <td>156.000000</td>\n",
       "      <td>156.000000</td>\n",
       "      <td>156.000000</td>\n",
       "      <td>156.000000</td>\n",
       "      <td>156.000000</td>\n",
       "      <td>156.000000</td>\n",
       "      <td>156.000000</td>\n",
       "      <td>156.000000</td>\n",
       "      <td>156.000000</td>\n",
       "      <td>156.000000</td>\n",
       "    </tr>\n",
       "    <tr>\n",
       "      <th>mean</th>\n",
       "      <td>3.356954</td>\n",
       "      <td>10.180705</td>\n",
       "      <td>0.376026</td>\n",
       "      <td>17.350000</td>\n",
       "      <td>86.937115</td>\n",
       "      <td>58.011474</td>\n",
       "      <td>15.034615</td>\n",
       "      <td>22.421154</td>\n",
       "      <td>134.547436</td>\n",
       "      <td>172.003205</td>\n",
       "      <td>...</td>\n",
       "      <td>8.206301</td>\n",
       "      <td>9.706078</td>\n",
       "      <td>2.129615</td>\n",
       "      <td>0.709808</td>\n",
       "      <td>0.592436</td>\n",
       "      <td>0.112115</td>\n",
       "      <td>0.619231</td>\n",
       "      <td>19.450000</td>\n",
       "      <td>4.985897</td>\n",
       "      <td>3.024359</td>\n",
       "    </tr>\n",
       "    <tr>\n",
       "      <th>std</th>\n",
       "      <td>0.758865</td>\n",
       "      <td>1.078504</td>\n",
       "      <td>0.115147</td>\n",
       "      <td>3.122251</td>\n",
       "      <td>35.506823</td>\n",
       "      <td>33.122486</td>\n",
       "      <td>11.842344</td>\n",
       "      <td>19.531893</td>\n",
       "      <td>51.210224</td>\n",
       "      <td>51.697205</td>\n",
       "      <td>...</td>\n",
       "      <td>1.025776</td>\n",
       "      <td>2.589192</td>\n",
       "      <td>0.888037</td>\n",
       "      <td>0.530066</td>\n",
       "      <td>0.309028</td>\n",
       "      <td>0.118436</td>\n",
       "      <td>0.337919</td>\n",
       "      <td>4.912624</td>\n",
       "      <td>2.621043</td>\n",
       "      <td>0.538501</td>\n",
       "    </tr>\n",
       "    <tr>\n",
       "      <th>min</th>\n",
       "      <td>1.400000</td>\n",
       "      <td>7.620000</td>\n",
       "      <td>0.200000</td>\n",
       "      <td>10.600000</td>\n",
       "      <td>29.000000</td>\n",
       "      <td>0.000000</td>\n",
       "      <td>0.000000</td>\n",
       "      <td>0.700000</td>\n",
       "      <td>20.900000</td>\n",
       "      <td>61.300000</td>\n",
       "      <td>...</td>\n",
       "      <td>6.457500</td>\n",
       "      <td>3.916500</td>\n",
       "      <td>0.480000</td>\n",
       "      <td>0.020000</td>\n",
       "      <td>0.100000</td>\n",
       "      <td>0.000000</td>\n",
       "      <td>0.080000</td>\n",
       "      <td>11.000000</td>\n",
       "      <td>0.000000</td>\n",
       "      <td>1.500000</td>\n",
       "    </tr>\n",
       "    <tr>\n",
       "      <th>25%</th>\n",
       "      <td>2.800000</td>\n",
       "      <td>9.367500</td>\n",
       "      <td>0.300000</td>\n",
       "      <td>16.200000</td>\n",
       "      <td>60.000000</td>\n",
       "      <td>32.760000</td>\n",
       "      <td>7.475000</td>\n",
       "      <td>9.000000</td>\n",
       "      <td>99.950000</td>\n",
       "      <td>133.050000</td>\n",
       "      <td>...</td>\n",
       "      <td>7.409525</td>\n",
       "      <td>8.040000</td>\n",
       "      <td>1.580000</td>\n",
       "      <td>0.240000</td>\n",
       "      <td>0.370000</td>\n",
       "      <td>0.030000</td>\n",
       "      <td>0.350000</td>\n",
       "      <td>15.950000</td>\n",
       "      <td>3.000000</td>\n",
       "      <td>2.700000</td>\n",
       "    </tr>\n",
       "    <tr>\n",
       "      <th>50%</th>\n",
       "      <td>3.379124</td>\n",
       "      <td>9.955000</td>\n",
       "      <td>0.350000</td>\n",
       "      <td>17.900000</td>\n",
       "      <td>80.000000</td>\n",
       "      <td>53.515000</td>\n",
       "      <td>12.250000</td>\n",
       "      <td>15.750000</td>\n",
       "      <td>131.500000</td>\n",
       "      <td>168.650000</td>\n",
       "      <td>...</td>\n",
       "      <td>8.044000</td>\n",
       "      <td>9.414100</td>\n",
       "      <td>2.085000</td>\n",
       "      <td>0.630000</td>\n",
       "      <td>0.535000</td>\n",
       "      <td>0.075000</td>\n",
       "      <td>0.610000</td>\n",
       "      <td>20.250000</td>\n",
       "      <td>5.000000</td>\n",
       "      <td>3.200000</td>\n",
       "    </tr>\n",
       "    <tr>\n",
       "      <th>75%</th>\n",
       "      <td>3.957258</td>\n",
       "      <td>10.890000</td>\n",
       "      <td>0.450000</td>\n",
       "      <td>20.100000</td>\n",
       "      <td>111.562500</td>\n",
       "      <td>81.910000</td>\n",
       "      <td>19.875000</td>\n",
       "      <td>30.825000</td>\n",
       "      <td>167.700000</td>\n",
       "      <td>206.800000</td>\n",
       "      <td>...</td>\n",
       "      <td>8.842500</td>\n",
       "      <td>11.387875</td>\n",
       "      <td>2.690000</td>\n",
       "      <td>1.022500</td>\n",
       "      <td>0.762500</td>\n",
       "      <td>0.150000</td>\n",
       "      <td>0.860000</td>\n",
       "      <td>22.125000</td>\n",
       "      <td>6.850000</td>\n",
       "      <td>3.400000</td>\n",
       "    </tr>\n",
       "    <tr>\n",
       "      <th>max</th>\n",
       "      <td>4.600000</td>\n",
       "      <td>12.890000</td>\n",
       "      <td>0.700000</td>\n",
       "      <td>20.700000</td>\n",
       "      <td>217.500000</td>\n",
       "      <td>170.370000</td>\n",
       "      <td>88.200000</td>\n",
       "      <td>91.100000</td>\n",
       "      <td>285.100000</td>\n",
       "      <td>327.600000</td>\n",
       "      <td>...</td>\n",
       "      <td>10.860000</td>\n",
       "      <td>17.420000</td>\n",
       "      <td>4.840000</td>\n",
       "      <td>2.860000</td>\n",
       "      <td>1.970000</td>\n",
       "      <td>0.760000</td>\n",
       "      <td>1.390000</td>\n",
       "      <td>33.200000</td>\n",
       "      <td>11.500000</td>\n",
       "      <td>3.900000</td>\n",
       "    </tr>\n",
       "  </tbody>\n",
       "</table>\n",
       "<p>8 rows × 30 columns</p>\n",
       "</div>"
      ],
      "text/plain": [
       "              PSU          O2   SecchDisc       temp.          SS        chla  \\\n",
       "count  156.000000  156.000000  156.000000  156.000000  156.000000  156.000000   \n",
       "mean     3.356954   10.180705    0.376026   17.350000   86.937115   58.011474   \n",
       "std      0.758865    1.078504    0.115147    3.122251   35.506823   33.122486   \n",
       "min      1.400000    7.620000    0.200000   10.600000   29.000000    0.000000   \n",
       "25%      2.800000    9.367500    0.300000   16.200000   60.000000   32.760000   \n",
       "50%      3.379124    9.955000    0.350000   17.900000   80.000000   53.515000   \n",
       "75%      3.957258   10.890000    0.450000   20.100000  111.562500   81.910000   \n",
       "max      4.600000   12.890000    0.700000   20.700000  217.500000  170.370000   \n",
       "\n",
       "              SRP         DOP          PP          TP  ...         DOC  \\\n",
       "count  156.000000  156.000000  156.000000  156.000000  ...  156.000000   \n",
       "mean    15.034615   22.421154  134.547436  172.003205  ...    8.206301   \n",
       "std     11.842344   19.531893   51.210224   51.697205  ...    1.025776   \n",
       "min      0.000000    0.700000   20.900000   61.300000  ...    6.457500   \n",
       "25%      7.475000    9.000000   99.950000  133.050000  ...    7.409525   \n",
       "50%     12.250000   15.750000  131.500000  168.650000  ...    8.044000   \n",
       "75%     19.875000   30.825000  167.700000  206.800000  ...    8.842500   \n",
       "max     88.200000   91.100000  285.100000  327.600000  ...   10.860000   \n",
       "\n",
       "             TPOC  PhytoBiomassC  CyanobacteriaBiomassC  \\\n",
       "count  156.000000     156.000000             156.000000   \n",
       "mean     9.706078       2.129615               0.709808   \n",
       "std      2.589192       0.888037               0.530066   \n",
       "min      3.916500       0.480000               0.020000   \n",
       "25%      8.040000       1.580000               0.240000   \n",
       "50%      9.414100       2.085000               0.630000   \n",
       "75%     11.387875       2.690000               1.022500   \n",
       "max     17.420000       4.840000               2.860000   \n",
       "\n",
       "       ChlorophyceaeBiomassC  DiatomsBiomassC  PicoplanktonBiomassC  \\\n",
       "count             156.000000       156.000000            156.000000   \n",
       "mean                0.592436         0.112115              0.619231   \n",
       "std                 0.309028         0.118436              0.337919   \n",
       "min                 0.100000         0.000000              0.080000   \n",
       "25%                 0.370000         0.030000              0.350000   \n",
       "50%                 0.535000         0.075000              0.610000   \n",
       "75%                 0.762500         0.150000              0.860000   \n",
       "max                 1.970000         0.760000              1.390000   \n",
       "\n",
       "       Airtemperature  Windspeedinsitu       Depth  \n",
       "count      156.000000       156.000000  156.000000  \n",
       "mean        19.450000         4.985897    3.024359  \n",
       "std          4.912624         2.621043    0.538501  \n",
       "min         11.000000         0.000000    1.500000  \n",
       "25%         15.950000         3.000000    2.700000  \n",
       "50%         20.250000         5.000000    3.200000  \n",
       "75%         22.125000         6.850000    3.400000  \n",
       "max         33.200000        11.500000    3.900000  \n",
       "\n",
       "[8 rows x 30 columns]"
      ]
     },
     "execution_count": 39,
     "metadata": {},
     "output_type": "execute_result"
    }
   ],
   "source": [
    "dataset.describe()"
   ]
  },
  {
   "cell_type": "code",
   "execution_count": 17,
   "id": "d110975f",
   "metadata": {},
   "outputs": [
    {
     "data": {
      "image/png": "[encoded data removed]",
      "text/plain": [
       "<Figure size 432x288 with 1 Axes>"
      ]
     },
     "metadata": {
      "needs_background": "light"
     },
     "output_type": "display_data"
    }
   ],
   "source": [
    "dataset.plot(x='SS',y='SecchDisc',style='o')\n",
    "plt.title(\"SecchDisc vs SS\")\n",
    "plt.xlabel(\"SS\")\n",
    "plt.ylabel(\"SecchDisc\")\n",
    "plt.show()"
   ]
  },
  {
   "cell_type": "code",
   "execution_count": 40,
   "id": "ae70b5ac",
   "metadata": {},
   "outputs": [
    {
     "data": {
      "text/plain": [
       "<AxesSubplot:xlabel='SecchDisc', ylabel='Count'>"
      ]
     },
     "execution_count": 40,
     "metadata": {},
     "output_type": "execute_result"
    },
    {
     "data": {
      "image/png": "[encoded data removed]",
      "text/plain": [
       "<Figure size 1080x720 with 1 Axes>"
      ]
     },
     "metadata": {
      "needs_background": "light"
     },
     "output_type": "display_data"
    }
   ],
   "source": [
    "plt.figure(figsize=(15,10))\n",
    "plt.tight_layout()\n",
    "seabornInstance.histplot(dataset['SecchDisc'], kde=True, kde_kws=dict(cut=3))"
   ]
  },
  {
   "cell_type": "code",
   "execution_count": 21,
   "id": "f9b1ed19",
   "metadata": {},
   "outputs": [],
   "source": [
    "X=dataset['SS'].values.reshape(-1,1)\n",
    "y=dataset['SecchDisc'].values.reshape(-1,1)"
   ]
  },
  {
   "cell_type": "code",
   "execution_count": 22,
   "id": "43e168ea",
   "metadata": {},
   "outputs": [],
   "source": [
    "X_train, X_test, y_train, y_test = train_test_split(X,y, test_size=.2, random_state=0)"
   ]
  },
  {
   "cell_type": "code",
   "execution_count": 23,
   "id": "fb421819",
   "metadata": {},
   "outputs": [
    {
     "data": {
      "text/html": [
       "<style>#sk-container-id-1 {color: black;background-color: white;}#sk-container-id-1 pre{padding: 0;}#sk-container-id-1 div.sk-toggleable {background-color: white;}#sk-container-id-1 label.sk-toggleable__label {cursor: pointer;display: block;width: 100%;margin-bottom: 0;padding: 0.3em;box-sizing: border-box;text-align: center;}#sk-container-id-1 label.sk-toggleable__label-arrow:before {content: \"▸\";float: left;margin-right: 0.25em;color: #696969;}#sk-container-id-1 label.sk-toggleable__label-arrow:hover:before {color: black;}#sk-container-id-1 div.sk-estimator:hover label.sk-toggleable__label-arrow:before {color: black;}#sk-container-id-1 div.sk-toggleable__content {max-height: 0;max-width: 0;overflow: hidden;text-align: left;background-color: #f0f8ff;}#sk-container-id-1 div.sk-toggleable__content pre {margin: 0.2em;color: black;border-radius: 0.25em;background-color: #f0f8ff;}#sk-container-id-1 input.sk-toggleable__control:checked~div.sk-toggleable__content {max-height: 200px;max-width: 100%;overflow: auto;}#sk-container-id-1 input.sk-toggleable__control:checked~label.sk-toggleable__label-arrow:before {content: \"▾\";}#sk-container-id-1 div.sk-estimator input.sk-toggleable__control:checked~label.sk-toggleable__label {background-color: #d4ebff;}#sk-container-id-1 div.sk-label input.sk-toggleable__control:checked~label.sk-toggleable__label {background-color: #d4ebff;}#sk-container-id-1 input.sk-hidden--visually {border: 0;clip: rect(1px 1px 1px 1px);clip: rect(1px, 1px, 1px, 1px);height: 1px;margin: -1px;overflow: hidden;padding: 0;position: absolute;width: 1px;}#sk-container-id-1 div.sk-estimator {font-family: monospace;background-color: #f0f8ff;border: 1px dotted black;border-radius: 0.25em;box-sizing: border-box;margin-bottom: 0.5em;}#sk-container-id-1 div.sk-estimator:hover {background-color: #d4ebff;}#sk-container-id-1 div.sk-parallel-item::after {content: \"\";width: 100%;border-bottom: 1px solid gray;flex-grow: 1;}#sk-container-id-1 div.sk-label:hover label.sk-toggleable__label {background-color: #d4ebff;}#sk-container-id-1 div.sk-serial::before {content: \"\";position: absolute;border-left: 1px solid gray;box-sizing: border-box;top: 0;bottom: 0;left: 50%;z-index: 0;}#sk-container-id-1 div.sk-serial {display: flex;flex-direction: column;align-items: center;background-color: white;padding-right: 0.2em;padding-left: 0.2em;position: relative;}#sk-container-id-1 div.sk-item {position: relative;z-index: 1;}#sk-container-id-1 div.sk-parallel {display: flex;align-items: stretch;justify-content: center;background-color: white;position: relative;}#sk-container-id-1 div.sk-item::before, #sk-container-id-1 div.sk-parallel-item::before {content: \"\";position: absolute;border-left: 1px solid gray;box-sizing: border-box;top: 0;bottom: 0;left: 50%;z-index: -1;}#sk-container-id-1 div.sk-parallel-item {display: flex;flex-direction: column;z-index: 1;position: relative;background-color: white;}#sk-container-id-1 div.sk-parallel-item:first-child::after {align-self: flex-end;width: 50%;}#sk-container-id-1 div.sk-parallel-item:last-child::after {align-self: flex-start;width: 50%;}#sk-container-id-1 div.sk-parallel-item:only-child::after {width: 0;}#sk-container-id-1 div.sk-dashed-wrapped {border: 1px dashed gray;margin: 0 0.4em 0.5em 0.4em;box-sizing: border-box;padding-bottom: 0.4em;background-color: white;}#sk-container-id-1 div.sk-label label {font-family: monospace;font-weight: bold;display: inline-block;line-height: 1.2em;}#sk-container-id-1 div.sk-label-container {text-align: center;}#sk-container-id-1 div.sk-container {/* jupyter's `normalize.less` sets `[hidden] { display: none; }` but bootstrap.min.css set `[hidden] { display: none !important; }` so we also need the `!important` here to be able to override the default hidden behavior on the sphinx rendered scikit-learn.org. See: https://github.com/scikit-learn/scikit-learn/issues/21755 */display: inline-block !important;position: relative;}#sk-container-id-1 div.sk-text-repr-fallback {display: none;}</style><div id=\"sk-container-id-1\" class=\"sk-top-container\"><div class=\"sk-text-repr-fallback\"><pre>LinearRegression()</pre><b>In a Jupyter environment, please rerun this cell to show the HTML representation or trust the notebook. <br />On GitHub, the HTML representation is unable to render, please try loading this page with nbviewer.org.</b></div><div class=\"sk-container\" hidden><div class=\"sk-item\"><div class=\"sk-estimator sk-toggleable\"><input class=\"sk-toggleable__control sk-hidden--visually\" id=\"sk-estimator-id-1\" type=\"checkbox\" checked><label for=\"sk-estimator-id-1\" class=\"sk-toggleable__label sk-toggleable__label-arrow\">LinearRegression</label><div class=\"sk-toggleable__content\"><pre>LinearRegression()</pre></div></div></div></div></div>"
      ],
      "text/plain": [
       "LinearRegression()"
      ]
     },
     "execution_count": 23,
     "metadata": {},
     "output_type": "execute_result"
    }
   ],
   "source": [
    "regressor = LinearRegression()\n",
    "regressor.fit(X_train, y_train)"
   ]
  },
  {
   "cell_type": "code",
   "execution_count": 25,
   "id": "863c36b2",
   "metadata": {},
   "outputs": [
    {
     "name": "stdout",
     "output_type": "stream",
     "text": [
      "[0.55338577]\n",
      "[[-0.00201303]]\n"
     ]
    }
   ],
   "source": [
    "print(regressor.intercept_)\n",
    "print(regressor.coef_)"
   ]
  },
  {
   "cell_type": "code",
   "execution_count": 26,
   "id": "06968aaf",
   "metadata": {},
   "outputs": [],
   "source": [
    "y_pred=regressor.predict(X_test)"
   ]
  },
  {
   "cell_type": "code",
   "execution_count": 27,
   "id": "655cda5a",
   "metadata": {},
   "outputs": [
    {
     "data": {
      "text/html": [
       "<div>\n",
       "<style scoped>\n",
       "    .dataframe tbody tr th:only-of-type {\n",
       "        vertical-align: middle;\n",
       "    }\n",
       "\n",
       "    .dataframe tbody tr th {\n",
       "        vertical-align: top;\n",
       "    }\n",
       "\n",
       "    .dataframe thead th {\n",
       "        text-align: right;\n",
       "    }\n",
       "</style>\n",
       "<table border=\"1\" class=\"dataframe\">\n",
       "  <thead>\n",
       "    <tr style=\"text-align: right;\">\n",
       "      <th></th>\n",
       "      <th>Actual</th>\n",
       "      <th>Predicted</th>\n",
       "    </tr>\n",
       "  </thead>\n",
       "  <tbody>\n",
       "    <tr>\n",
       "      <th>0</th>\n",
       "      <td>0.50</td>\n",
       "      <td>0.397376</td>\n",
       "    </tr>\n",
       "    <tr>\n",
       "      <th>1</th>\n",
       "      <td>0.30</td>\n",
       "      <td>0.400979</td>\n",
       "    </tr>\n",
       "    <tr>\n",
       "      <th>2</th>\n",
       "      <td>0.40</td>\n",
       "      <td>0.432604</td>\n",
       "    </tr>\n",
       "    <tr>\n",
       "      <th>3</th>\n",
       "      <td>0.23</td>\n",
       "      <td>0.218720</td>\n",
       "    </tr>\n",
       "    <tr>\n",
       "      <th>4</th>\n",
       "      <td>0.70</td>\n",
       "      <td>0.457767</td>\n",
       "    </tr>\n",
       "    <tr>\n",
       "      <th>5</th>\n",
       "      <td>0.50</td>\n",
       "      <td>0.436630</td>\n",
       "    </tr>\n",
       "    <tr>\n",
       "      <th>6</th>\n",
       "      <td>0.30</td>\n",
       "      <td>0.409595</td>\n",
       "    </tr>\n",
       "    <tr>\n",
       "      <th>7</th>\n",
       "      <td>0.20</td>\n",
       "      <td>0.347050</td>\n",
       "    </tr>\n",
       "    <tr>\n",
       "      <th>8</th>\n",
       "      <td>0.30</td>\n",
       "      <td>0.420023</td>\n",
       "    </tr>\n",
       "    <tr>\n",
       "      <th>9</th>\n",
       "      <td>0.40</td>\n",
       "      <td>0.383708</td>\n",
       "    </tr>\n",
       "    <tr>\n",
       "      <th>10</th>\n",
       "      <td>0.40</td>\n",
       "      <td>0.372213</td>\n",
       "    </tr>\n",
       "    <tr>\n",
       "      <th>11</th>\n",
       "      <td>0.40</td>\n",
       "      <td>0.363577</td>\n",
       "    </tr>\n",
       "    <tr>\n",
       "      <th>12</th>\n",
       "      <td>0.25</td>\n",
       "      <td>0.294208</td>\n",
       "    </tr>\n",
       "    <tr>\n",
       "      <th>13</th>\n",
       "      <td>0.30</td>\n",
       "      <td>0.422539</td>\n",
       "    </tr>\n",
       "    <tr>\n",
       "      <th>14</th>\n",
       "      <td>0.35</td>\n",
       "      <td>0.372213</td>\n",
       "    </tr>\n",
       "    <tr>\n",
       "      <th>15</th>\n",
       "      <td>0.30</td>\n",
       "      <td>0.364664</td>\n",
       "    </tr>\n",
       "    <tr>\n",
       "      <th>16</th>\n",
       "      <td>0.45</td>\n",
       "      <td>0.435483</td>\n",
       "    </tr>\n",
       "    <tr>\n",
       "      <th>17</th>\n",
       "      <td>0.30</td>\n",
       "      <td>0.389727</td>\n",
       "    </tr>\n",
       "    <tr>\n",
       "      <th>18</th>\n",
       "      <td>0.40</td>\n",
       "      <td>0.406717</td>\n",
       "    </tr>\n",
       "    <tr>\n",
       "      <th>19</th>\n",
       "      <td>0.20</td>\n",
       "      <td>0.211171</td>\n",
       "    </tr>\n",
       "    <tr>\n",
       "      <th>20</th>\n",
       "      <td>0.27</td>\n",
       "      <td>0.324404</td>\n",
       "    </tr>\n",
       "    <tr>\n",
       "      <th>21</th>\n",
       "      <td>0.50</td>\n",
       "      <td>0.428578</td>\n",
       "    </tr>\n",
       "    <tr>\n",
       "      <th>22</th>\n",
       "      <td>0.30</td>\n",
       "      <td>0.399892</td>\n",
       "    </tr>\n",
       "    <tr>\n",
       "      <th>23</th>\n",
       "      <td>0.25</td>\n",
       "      <td>0.311822</td>\n",
       "    </tr>\n",
       "    <tr>\n",
       "      <th>24</th>\n",
       "      <td>0.25</td>\n",
       "      <td>0.304274</td>\n",
       "    </tr>\n",
       "    <tr>\n",
       "      <th>25</th>\n",
       "      <td>0.25</td>\n",
       "      <td>0.321888</td>\n",
       "    </tr>\n",
       "    <tr>\n",
       "      <th>26</th>\n",
       "      <td>0.40</td>\n",
       "      <td>0.412474</td>\n",
       "    </tr>\n",
       "    <tr>\n",
       "      <th>27</th>\n",
       "      <td>0.35</td>\n",
       "      <td>0.376239</td>\n",
       "    </tr>\n",
       "    <tr>\n",
       "      <th>28</th>\n",
       "      <td>0.55</td>\n",
       "      <td>0.478904</td>\n",
       "    </tr>\n",
       "    <tr>\n",
       "      <th>29</th>\n",
       "      <td>0.40</td>\n",
       "      <td>0.258980</td>\n",
       "    </tr>\n",
       "    <tr>\n",
       "      <th>30</th>\n",
       "      <td>0.50</td>\n",
       "      <td>0.445186</td>\n",
       "    </tr>\n",
       "    <tr>\n",
       "      <th>31</th>\n",
       "      <td>0.45</td>\n",
       "      <td>0.417506</td>\n",
       "    </tr>\n",
       "  </tbody>\n",
       "</table>\n",
       "</div>"
      ],
      "text/plain": [
       "    Actual  Predicted\n",
       "0     0.50   0.397376\n",
       "1     0.30   0.400979\n",
       "2     0.40   0.432604\n",
       "3     0.23   0.218720\n",
       "4     0.70   0.457767\n",
       "5     0.50   0.436630\n",
       "6     0.30   0.409595\n",
       "7     0.20   0.347050\n",
       "8     0.30   0.420023\n",
       "9     0.40   0.383708\n",
       "10    0.40   0.372213\n",
       "11    0.40   0.363577\n",
       "12    0.25   0.294208\n",
       "13    0.30   0.422539\n",
       "14    0.35   0.372213\n",
       "15    0.30   0.364664\n",
       "16    0.45   0.435483\n",
       "17    0.30   0.389727\n",
       "18    0.40   0.406717\n",
       "19    0.20   0.211171\n",
       "20    0.27   0.324404\n",
       "21    0.50   0.428578\n",
       "22    0.30   0.399892\n",
       "23    0.25   0.311822\n",
       "24    0.25   0.304274\n",
       "25    0.25   0.321888\n",
       "26    0.40   0.412474\n",
       "27    0.35   0.376239\n",
       "28    0.55   0.478904\n",
       "29    0.40   0.258980\n",
       "30    0.50   0.445186\n",
       "31    0.45   0.417506"
      ]
     },
     "execution_count": 27,
     "metadata": {},
     "output_type": "execute_result"
    }
   ],
   "source": [
    "df = pd.DataFrame({'Actual': y_test.flatten(), 'Predicted': y_pred.flatten()})\n",
    "df"
   ]
  },
  {
   "cell_type": "code",
   "execution_count": 33,
   "id": "a44d5bd7",
   "metadata": {},
   "outputs": [
    {
     "data": {
      "image/png": "[encoded data removed]",
      "text/plain": [
       "<Figure size 1152x720 with 1 Axes>"
      ]
     },
     "metadata": {
      "needs_background": "light"
     },
     "output_type": "display_data"
    }
   ],
   "source": [
    "df1 = df.head(25)\n",
    "df1.plot(kind='bar', figsize=(16,10))\n",
    "plt.grid(which='major',linestyle=\"-\",linewidth='.5', color='green')\n",
    "plt.grid(which='minor',linestyle=\":\",linewidth='.5', color='black')\n",
    "plt.show()"
   ]
  },
  {
   "cell_type": "code",
   "execution_count": 30,
   "id": "42b7f9c2",
   "metadata": {},
   "outputs": [
    {
     "data": {
      "image/png": "[encoded data removed]",
      "text/plain": [
       "<Figure size 432x288 with 1 Axes>"
      ]
     },
     "metadata": {
      "needs_background": "light"
     },
     "output_type": "display_data"
    }
   ],
   "source": [
    "plt.scatter(X_test, y_test, color='gray')\n",
    "plt.plot(X_test, y_pred, color=\"red\", linewidth=2)\n",
    "plt.show()"
   ]
  },
  {
   "cell_type": "code",
   "execution_count": 32,
   "id": "870bcd2b",
   "metadata": {},
   "outputs": [
    {
     "name": "stdout",
     "output_type": "stream",
     "text": [
      "Mean Absolute Error: 0.06680798903466384\n",
      "Mean Squared Error: 0.007028533268056228\n",
      "Root Mean Squared Error: 0.08383634813167991\n"
     ]
    }
   ],
   "source": [
    "print('Mean Absolute Error:', metrics.mean_absolute_error(y_test, y_pred))\n",
    "print('Mean Squared Error:', metrics.mean_squared_error(y_test, y_pred))\n",
    "print('Root Mean Squared Error:', np.sqrt(metrics.mean_squared_error(y_test, y_pred)))"
   ]
  }
 ],
 "metadata": {
  "kernelspec": {
   "display_name": "Python 3 (ipykernel)",
   "language": "python",
   "name": "python3"
  },
  "language_info": {
   "codemirror_mode": {
    "name": "ipython",
    "version": 3
   },
   "file_extension": ".py",
   "mimetype": "text/x-python",
   "name": "python",
   "nbconvert_exporter": "python",
   "pygments_lexer": "ipython3",
   "version": "3.10.9"
  }
 },
 "nbformat": 4,
 "nbformat_minor": 5
}

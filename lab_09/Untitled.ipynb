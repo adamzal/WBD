{
 "cells": [
  {
   "cell_type": "code",
   "execution_count": 2,
   "id": "1c595963",
   "metadata": {},
   "outputs": [],
   "source": [
    "library(readr)"
   ]
  },
  {
   "cell_type": "code",
   "execution_count": 4,
   "id": "f0128470",
   "metadata": {},
   "outputs": [
    {
     "name": "stderr",
     "output_type": "stream",
     "text": [
      "\u001b[1mRows: \u001b[22m\u001b[34m178\u001b[39m \u001b[1mColumns: \u001b[22m\u001b[34m5\u001b[39m\n",
      "\u001b[36m──\u001b[39m \u001b[1mColumn specification\u001b[22m \u001b[36m────────────────────────────────────────────────────────────────────────────────────────────────\u001b[39m\n",
      "\u001b[1mDelimiter:\u001b[22m \",\"\n",
      "\u001b[31mchr\u001b[39m (1): Class\n",
      "\u001b[32mdbl\u001b[39m (4): Flavanoids, Hue, OD, Proline\n",
      "\n",
      "\u001b[36mℹ\u001b[39m Use `spec()` to retrieve the full column specification for this data.\n",
      "\u001b[36mℹ\u001b[39m Specify the column types or set `show_col_types = FALSE` to quiet this message.\n"
     ]
    }
   ],
   "source": [
    "wine <- read_csv(\"wineR3_4.csv\")"
   ]
  },
  {
   "cell_type": "code",
   "execution_count": 5,
   "id": "76d18b04",
   "metadata": {},
   "outputs": [
    {
     "data": {
      "text/plain": [
       "cols(\n",
       "  Flavanoids = \u001b[32mcol_double()\u001b[39m,\n",
       "  Hue = \u001b[32mcol_double()\u001b[39m,\n",
       "  OD = \u001b[32mcol_double()\u001b[39m,\n",
       "  Proline = \u001b[32mcol_double()\u001b[39m,\n",
       "  Class = \u001b[31mcol_character()\u001b[39m\n",
       ")"
      ]
     },
     "metadata": {},
     "output_type": "display_data"
    }
   ],
   "source": [
    "cols(Flavanoids = col_double(),\n",
    "     Hue = col_double(),  \n",
    "     OD = col_double(),  \n",
    "     Proline = col_double(),  \n",
    "     Class = col_character()\n",
    ")"
   ]
  },
  {
   "cell_type": "code",
   "execution_count": 6,
   "id": "01916eb7",
   "metadata": {},
   "outputs": [],
   "source": [
    "wine$Class<-as.factor(wine$Class)"
   ]
  },
  {
   "cell_type": "code",
   "execution_count": 8,
   "id": "daeb834d",
   "metadata": {},
   "outputs": [],
   "source": [
    "library(e1071)"
   ]
  },
  {
   "cell_type": "code",
   "execution_count": 9,
   "id": "07d51fe7",
   "metadata": {},
   "outputs": [
    {
     "name": "stderr",
     "output_type": "stream",
     "text": [
      "Ładowanie wymaganego pakietu: ggplot2\n",
      "\n",
      "Registered S3 method overwritten by 'GGally':\n",
      "  method from   \n",
      "  +.gg   ggplot2\n",
      "\n"
     ]
    }
   ],
   "source": [
    "library(GGally)"
   ]
  },
  {
   "cell_type": "code",
   "execution_count": 10,
   "id": "ed8c20e8",
   "metadata": {},
   "outputs": [],
   "source": [
    "library(ggplot2)"
   ]
  },
  {
   "cell_type": "code",
   "execution_count": 11,
   "id": "a3a36bb6",
   "metadata": {},
   "outputs": [
    {
     "name": "stdout",
     "output_type": "stream",
     "text": [
      "spc_tbl_ [178 × 5] (S3: spec_tbl_df/tbl_df/tbl/data.frame)\n",
      " $ Flavanoids: num [1:178] 3.06 2.76 3.24 3.49 2.69 3.39 2.52 2.51 2.98 3.15 ...\n",
      " $ Hue       : num [1:178] 1.04 1.05 1.03 0.86 1.04 1.05 1.02 1.06 1.08 1.01 ...\n",
      " $ OD        : num [1:178] 3.92 3.4 3.17 3.45 2.93 2.85 3.58 3.58 2.85 3.55 ...\n",
      " $ Proline   : num [1:178] 1065 1050 1185 1480 735 ...\n",
      " $ Class     : Factor w/ 3 levels \"Low\",\"Middle\",..: 3 3 3 3 3 3 3 3 3 3 ...\n",
      " - attr(*, \"spec\")=\n",
      "  .. cols(\n",
      "  ..   Flavanoids = \u001b[32mcol_double()\u001b[39m,\n",
      "  ..   Hue = \u001b[32mcol_double()\u001b[39m,\n",
      "  ..   OD = \u001b[32mcol_double()\u001b[39m,\n",
      "  ..   Proline = \u001b[32mcol_double()\u001b[39m,\n",
      "  ..   Class = \u001b[31mcol_character()\u001b[39m\n",
      "  .. )\n",
      " - attr(*, \"problems\")=<externalptr> \n"
     ]
    }
   ],
   "source": [
    "str(wine)"
   ]
  },
  {
   "cell_type": "code",
   "execution_count": 12,
   "id": "2a596239",
   "metadata": {},
   "outputs": [
    {
     "data": {
      "text/html": [
       "<table class=\"dataframe\">\n",
       "<caption>A tibble: 5 × 5</caption>\n",
       "<thead>\n",
       "\t<tr><th scope=col>Flavanoids</th><th scope=col>Hue</th><th scope=col>OD</th><th scope=col>Proline</th><th scope=col>Class</th></tr>\n",
       "\t<tr><th scope=col>&lt;dbl&gt;</th><th scope=col>&lt;dbl&gt;</th><th scope=col>&lt;dbl&gt;</th><th scope=col>&lt;dbl&gt;</th><th scope=col>&lt;fct&gt;</th></tr>\n",
       "</thead>\n",
       "<tbody>\n",
       "\t<tr><td>3.06</td><td>1.04</td><td>3.92</td><td>1065</td><td>Premium</td></tr>\n",
       "\t<tr><td>2.76</td><td>1.05</td><td>3.40</td><td>1050</td><td>Premium</td></tr>\n",
       "\t<tr><td>3.24</td><td>1.03</td><td>3.17</td><td>1185</td><td>Premium</td></tr>\n",
       "\t<tr><td>3.49</td><td>0.86</td><td>3.45</td><td>1480</td><td>Premium</td></tr>\n",
       "\t<tr><td>2.69</td><td>1.04</td><td>2.93</td><td> 735</td><td>Premium</td></tr>\n",
       "</tbody>\n",
       "</table>\n"
      ],
      "text/latex": [
       "A tibble: 5 × 5\n",
       "\\begin{tabular}{lllll}\n",
       " Flavanoids & Hue & OD & Proline & Class\\\\\n",
       " <dbl> & <dbl> & <dbl> & <dbl> & <fct>\\\\\n",
       "\\hline\n",
       "\t 3.06 & 1.04 & 3.92 & 1065 & Premium\\\\\n",
       "\t 2.76 & 1.05 & 3.40 & 1050 & Premium\\\\\n",
       "\t 3.24 & 1.03 & 3.17 & 1185 & Premium\\\\\n",
       "\t 3.49 & 0.86 & 3.45 & 1480 & Premium\\\\\n",
       "\t 2.69 & 1.04 & 2.93 &  735 & Premium\\\\\n",
       "\\end{tabular}\n"
      ],
      "text/markdown": [
       "\n",
       "A tibble: 5 × 5\n",
       "\n",
       "| Flavanoids &lt;dbl&gt; | Hue &lt;dbl&gt; | OD &lt;dbl&gt; | Proline &lt;dbl&gt; | Class &lt;fct&gt; |\n",
       "|---|---|---|---|---|\n",
       "| 3.06 | 1.04 | 3.92 | 1065 | Premium |\n",
       "| 2.76 | 1.05 | 3.40 | 1050 | Premium |\n",
       "| 3.24 | 1.03 | 3.17 | 1185 | Premium |\n",
       "| 3.49 | 0.86 | 3.45 | 1480 | Premium |\n",
       "| 2.69 | 1.04 | 2.93 |  735 | Premium |\n",
       "\n"
      ],
      "text/plain": [
       "  Flavanoids Hue  OD   Proline Class  \n",
       "1 3.06       1.04 3.92 1065    Premium\n",
       "2 2.76       1.05 3.40 1050    Premium\n",
       "3 3.24       1.03 3.17 1185    Premium\n",
       "4 3.49       0.86 3.45 1480    Premium\n",
       "5 2.69       1.04 2.93  735    Premium"
      ]
     },
     "metadata": {},
     "output_type": "display_data"
    }
   ],
   "source": [
    "head(wine, 5)"
   ]
  },
  {
   "cell_type": "code",
   "execution_count": 13,
   "id": "ebab47b7",
   "metadata": {},
   "outputs": [],
   "source": [
    "svm_model<-svm(Class~.,data=wine,type=\"C-classification\",kernel=\"radial\")#linear/polynomial/sigmoid"
   ]
  },
  {
   "cell_type": "code",
   "execution_count": 14,
   "id": "dc684182",
   "metadata": {},
   "outputs": [
    {
     "name": "stderr",
     "output_type": "stream",
     "text": [
      "\u001b[1m\u001b[22m`stat_bin()` using `bins = 30`. Pick better value with `binwidth`.\n",
      "\u001b[1m\u001b[22m`stat_bin()` using `bins = 30`. Pick better value with `binwidth`.\n",
      "\u001b[1m\u001b[22m`stat_bin()` using `bins = 30`. Pick better value with `binwidth`.\n",
      "\u001b[1m\u001b[22m`stat_bin()` using `bins = 30`. Pick better value with `binwidth`.\n"
     ]
    },
    {
     "data": {
      "image/png": "[encoded data removed]",
      "text/plain": [
       "plot without title"
      ]
     },
     "metadata": {
      "image/png": {
       "height": 420,
       "width": 420
      }
     },
     "output_type": "display_data"
    }
   ],
   "source": [
    "ggpairs(wine,ggplot2::aes(colour=Class,alpha=0.4))"
   ]
  },
  {
   "cell_type": "code",
   "execution_count": 15,
   "id": "155259ad",
   "metadata": {},
   "outputs": [
    {
     "data": {
      "image/png": "[encoded data removed]",
      "text/plain": [
       "Plot with title \"SVM classification plot\""
      ]
     },
     "metadata": {
      "image/png": {
       "height": 420,
       "width": 420
      }
     },
     "output_type": "display_data"
    }
   ],
   "source": [
    "plot(svm_model,data=wine,\n",
    "     Flavanoids~Hue,\n",
    "     slice=list(OD=3,Proline=1000))"
   ]
  },
  {
   "cell_type": "code",
   "execution_count": 16,
   "id": "88aaa23c",
   "metadata": {},
   "outputs": [
    {
     "data": {
      "text/plain": [
       "         Actual\n",
       "Predicted Low Middle Premium\n",
       "  Low      48      2       0\n",
       "  Middle    0     65       2\n",
       "  Premium   0      4      57"
      ]
     },
     "metadata": {},
     "output_type": "display_data"
    }
   ],
   "source": [
    "pred=predict(svm_model,wine)\n",
    "tab=table(Predicted=pred,Actual=wine$Class)\n",
    "tab"
   ]
  },
  {
   "cell_type": "code",
   "execution_count": 17,
   "id": "4dff2c9c",
   "metadata": {},
   "outputs": [
    {
     "data": {
      "text/html": [
       "0.0449438202247191"
      ],
      "text/latex": [
       "0.0449438202247191"
      ],
      "text/markdown": [
       "0.0449438202247191"
      ],
      "text/plain": [
       "[1] 0.04494382"
      ]
     },
     "metadata": {},
     "output_type": "display_data"
    }
   ],
   "source": [
    "1-sum(diag(tab)/sum(tab))#Missclasification error"
   ]
  },
  {
   "cell_type": "code",
   "execution_count": 18,
   "id": "2a76f9dc",
   "metadata": {},
   "outputs": [
    {
     "data": {
      "text/html": [
       "0.955056179775281"
      ],
      "text/latex": [
       "0.955056179775281"
      ],
      "text/markdown": [
       "0.955056179775281"
      ],
      "text/plain": [
       "[1] 0.9550562"
      ]
     },
     "metadata": {},
     "output_type": "display_data"
    }
   ],
   "source": [
    "sum(diag(tab)/sum(tab))#Accuracy"
   ]
  },
  {
   "cell_type": "code",
   "execution_count": 19,
   "id": "7c7b17e4",
   "metadata": {},
   "outputs": [],
   "source": [
    "svm_model<-svm(Class~.,data=wine,type=\"C-classification\",kernel=\"linear\")#linear/polynomial/sigmoid"
   ]
  },
  {
   "cell_type": "code",
   "execution_count": 20,
   "id": "bb8f0732",
   "metadata": {},
   "outputs": [
    {
     "data": {
      "image/png": "[encoded data removed]",
      "text/plain": [
       "Plot with title \"SVM classification plot\""
      ]
     },
     "metadata": {
      "image/png": {
       "height": 420,
       "width": 420
      }
     },
     "output_type": "display_data"
    }
   ],
   "source": [
    "plot(svm_model,\n",
    "     data=wine,\n",
    "     Flavanoids~Hue,\n",
    "     slice=list(OD=2,Proline=1000))"
   ]
  },
  {
   "cell_type": "code",
   "execution_count": 21,
   "id": "a77bcb0f",
   "metadata": {},
   "outputs": [
    {
     "data": {
      "text/plain": [
       "         Actual\n",
       "Predicted Low Middle Premium\n",
       "  Low      48      3       0\n",
       "  Middle    0     65       2\n",
       "  Premium   0      3      57"
      ]
     },
     "metadata": {},
     "output_type": "display_data"
    }
   ],
   "source": [
    "pred=predict(svm_model,wine)\n",
    "tab=table(Predicted=pred,Actual=wine$Class)\n",
    "tab"
   ]
  },
  {
   "cell_type": "code",
   "execution_count": 22,
   "id": "a7378be7",
   "metadata": {},
   "outputs": [
    {
     "data": {
      "text/html": [
       "0.0449438202247191"
      ],
      "text/latex": [
       "0.0449438202247191"
      ],
      "text/markdown": [
       "0.0449438202247191"
      ],
      "text/plain": [
       "[1] 0.04494382"
      ]
     },
     "metadata": {},
     "output_type": "display_data"
    }
   ],
   "source": [
    "1-sum(diag(tab)/sum(tab))#Missclasification error"
   ]
  },
  {
   "cell_type": "code",
   "execution_count": 23,
   "id": "e92ba894",
   "metadata": {},
   "outputs": [
    {
     "data": {
      "text/html": [
       "0.955056179775281"
      ],
      "text/latex": [
       "0.955056179775281"
      ],
      "text/markdown": [
       "0.955056179775281"
      ],
      "text/plain": [
       "[1] 0.9550562"
      ]
     },
     "metadata": {},
     "output_type": "display_data"
    }
   ],
   "source": [
    "sum(diag(tab)/sum(tab))#Accuracy"
   ]
  },
  {
   "cell_type": "code",
   "execution_count": 24,
   "id": "8d611076",
   "metadata": {},
   "outputs": [],
   "source": [
    "svm_model<-svm(Class~.,data=wine,type=\"C-classification\",kernel=\"poly\")#linear/polynomial/sigmoid"
   ]
  },
  {
   "cell_type": "code",
   "execution_count": 25,
   "id": "b02d3bcc",
   "metadata": {},
   "outputs": [
    {
     "data": {
      "image/png": "[encoded data removed]",
      "text/plain": [
       "Plot with title \"SVM classification plot\""
      ]
     },
     "metadata": {
      "image/png": {
       "height": 420,
       "width": 420
      }
     },
     "output_type": "display_data"
    }
   ],
   "source": [
    "plot(svm_model,data=wine,Flavanoids~Hue,slice=list(OD=2,Proline=1000))"
   ]
  },
  {
   "cell_type": "code",
   "execution_count": 26,
   "id": "1cea7f55",
   "metadata": {},
   "outputs": [
    {
     "data": {
      "text/plain": [
       "         Actual\n",
       "Predicted Low Middle Premium\n",
       "  Low      47      0       0\n",
       "  Middle    1     70       5\n",
       "  Premium   0      1      54"
      ]
     },
     "metadata": {},
     "output_type": "display_data"
    }
   ],
   "source": [
    "pred=predict(svm_model,wine)\n",
    "tab=table(Predicted=pred,Actual=wine$Class)\n",
    "tab"
   ]
  },
  {
   "cell_type": "code",
   "execution_count": 27,
   "id": "ec3d7ef2",
   "metadata": {},
   "outputs": [
    {
     "data": {
      "text/html": [
       "0.0393258426966292"
      ],
      "text/latex": [
       "0.0393258426966292"
      ],
      "text/markdown": [
       "0.0393258426966292"
      ],
      "text/plain": [
       "[1] 0.03932584"
      ]
     },
     "metadata": {},
     "output_type": "display_data"
    }
   ],
   "source": [
    "1-sum(diag(tab)/sum(tab))"
   ]
  },
  {
   "cell_type": "code",
   "execution_count": 28,
   "id": "77b25f19",
   "metadata": {},
   "outputs": [
    {
     "data": {
      "text/html": [
       "0.960674157303371"
      ],
      "text/latex": [
       "0.960674157303371"
      ],
      "text/markdown": [
       "0.960674157303371"
      ],
      "text/plain": [
       "[1] 0.9606742"
      ]
     },
     "metadata": {},
     "output_type": "display_data"
    }
   ],
   "source": [
    "sum(diag(tab)/sum(tab))"
   ]
  },
  {
   "cell_type": "code",
   "execution_count": 29,
   "id": "a5c50bc0",
   "metadata": {},
   "outputs": [],
   "source": [
    "svm_model<-svm(Class~.,data=wine,type=\"C-classification\",kernel=\"sigmoid\")#linear/polynomial/sigmoid"
   ]
  },
  {
   "cell_type": "code",
   "execution_count": 30,
   "id": "a6c8c2dd",
   "metadata": {},
   "outputs": [
    {
     "data": {
      "image/png": "[encoded data removed]",
      "text/plain": [
       "Plot with title \"SVM classification plot\""
      ]
     },
     "metadata": {
      "image/png": {
       "height": 420,
       "width": 420
      }
     },
     "output_type": "display_data"
    }
   ],
   "source": [
    "plot(svm_model,data=wine,Flavanoids~Hue,slice=list(OD=2,Proline=1000))"
   ]
  },
  {
   "cell_type": "code",
   "execution_count": 31,
   "id": "fe1625f1",
   "metadata": {},
   "outputs": [
    {
     "data": {
      "text/plain": [
       "         Actual\n",
       "Predicted Low Middle Premium\n",
       "  Low      48      6       0\n",
       "  Middle    0     60       2\n",
       "  Premium   0      5      57"
      ]
     },
     "metadata": {},
     "output_type": "display_data"
    }
   ],
   "source": [
    "pred=predict(svm_model,wine)\n",
    "tab=table(Predicted=pred,Actual=wine$Class)\n",
    "tab"
   ]
  },
  {
   "cell_type": "code",
   "execution_count": 32,
   "id": "1253027f",
   "metadata": {},
   "outputs": [
    {
     "data": {
      "text/html": [
       "0.0730337078651686"
      ],
      "text/latex": [
       "0.0730337078651686"
      ],
      "text/markdown": [
       "0.0730337078651686"
      ],
      "text/plain": [
       "[1] 0.07303371"
      ]
     },
     "metadata": {},
     "output_type": "display_data"
    }
   ],
   "source": [
    "1-sum(diag(tab)/sum(tab))"
   ]
  },
  {
   "cell_type": "code",
   "execution_count": 33,
   "id": "8f93840e",
   "metadata": {},
   "outputs": [
    {
     "data": {
      "text/html": [
       "0.926966292134831"
      ],
      "text/latex": [
       "0.926966292134831"
      ],
      "text/markdown": [
       "0.926966292134831"
      ],
      "text/plain": [
       "[1] 0.9269663"
      ]
     },
     "metadata": {},
     "output_type": "display_data"
    }
   ],
   "source": [
    "sum(diag(tab)/sum(tab))"
   ]
  },
  {
   "cell_type": "code",
   "execution_count": 35,
   "id": "fed78146",
   "metadata": {},
   "outputs": [
    {
     "data": {
      "image/png": "[encoded data removed]",
      "text/plain": [
       "Plot with title \"Performance of `svm'\""
      ]
     },
     "metadata": {
      "image/png": {
       "height": 420,
       "width": 420
      }
     },
     "output_type": "display_data"
    }
   ],
   "source": [
    "set.seed(2137)\n",
    "tmodel=tune(type=\"C-classification\",svm,Class~.,data=wine,ranges=list(epsilon=seq(0,1,0.1),cost=2^(2:7)))\n",
    "plot(tmodel)"
   ]
  },
  {
   "cell_type": "code",
   "execution_count": 36,
   "id": "2c79b099",
   "metadata": {},
   "outputs": [
    {
     "data": {
      "text/plain": [
       "\n",
       "Parameter tuning of 'svm':\n",
       "\n",
       "- sampling method: 10-fold cross validation \n",
       "\n",
       "- best parameters:\n",
       " epsilon cost\n",
       "       0    4\n",
       "\n",
       "- best performance: 0.06143791 \n",
       "\n",
       "- Detailed performance results:\n",
       "   epsilon cost      error dispersion\n",
       "1      0.0    4 0.06143791 0.05521920\n",
       "2      0.1    4 0.06143791 0.05521920\n",
       "3      0.2    4 0.06143791 0.05521920\n",
       "4      0.3    4 0.06143791 0.05521920\n",
       "5      0.4    4 0.06143791 0.05521920\n",
       "6      0.5    4 0.06143791 0.05521920\n",
       "7      0.6    4 0.06143791 0.05521920\n",
       "8      0.7    4 0.06143791 0.05521920\n",
       "9      0.8    4 0.06143791 0.05521920\n",
       "10     0.9    4 0.06143791 0.05521920\n",
       "11     1.0    4 0.06143791 0.05521920\n",
       "12     0.0    8 0.06143791 0.05521920\n",
       "13     0.1    8 0.06143791 0.05521920\n",
       "14     0.2    8 0.06143791 0.05521920\n",
       "15     0.3    8 0.06143791 0.05521920\n",
       "16     0.4    8 0.06143791 0.05521920\n",
       "17     0.5    8 0.06143791 0.05521920\n",
       "18     0.6    8 0.06143791 0.05521920\n",
       "19     0.7    8 0.06143791 0.05521920\n",
       "20     0.8    8 0.06143791 0.05521920\n",
       "21     0.9    8 0.06143791 0.05521920\n",
       "22     1.0    8 0.06143791 0.05521920\n",
       "23     0.0   16 0.07254902 0.06433105\n",
       "24     0.1   16 0.07254902 0.06433105\n",
       "25     0.2   16 0.07254902 0.06433105\n",
       "26     0.3   16 0.07254902 0.06433105\n",
       "27     0.4   16 0.07254902 0.06433105\n",
       "28     0.5   16 0.07254902 0.06433105\n",
       "29     0.6   16 0.07254902 0.06433105\n",
       "30     0.7   16 0.07254902 0.06433105\n",
       "31     0.8   16 0.07254902 0.06433105\n",
       "32     0.9   16 0.07254902 0.06433105\n",
       "33     1.0   16 0.07254902 0.06433105\n",
       "34     0.0   32 0.08398693 0.06037748\n",
       "35     0.1   32 0.08398693 0.06037748\n",
       "36     0.2   32 0.08398693 0.06037748\n",
       "37     0.3   32 0.08398693 0.06037748\n",
       "38     0.4   32 0.08398693 0.06037748\n",
       "39     0.5   32 0.08398693 0.06037748\n",
       "40     0.6   32 0.08398693 0.06037748\n",
       "41     0.7   32 0.08398693 0.06037748\n",
       "42     0.8   32 0.08398693 0.06037748\n",
       "43     0.9   32 0.08398693 0.06037748\n",
       "44     1.0   32 0.08398693 0.06037748\n",
       "45     0.0   64 0.07843137 0.05416036\n",
       "46     0.1   64 0.07843137 0.05416036\n",
       "47     0.2   64 0.07843137 0.05416036\n",
       "48     0.3   64 0.07843137 0.05416036\n",
       "49     0.4   64 0.07843137 0.05416036\n",
       "50     0.5   64 0.07843137 0.05416036\n",
       "51     0.6   64 0.07843137 0.05416036\n",
       "52     0.7   64 0.07843137 0.05416036\n",
       "53     0.8   64 0.07843137 0.05416036\n",
       "54     0.9   64 0.07843137 0.05416036\n",
       "55     1.0   64 0.07843137 0.05416036\n",
       "56     0.0  128 0.08398693 0.06037748\n",
       "57     0.1  128 0.08398693 0.06037748\n",
       "58     0.2  128 0.08398693 0.06037748\n",
       "59     0.3  128 0.08398693 0.06037748\n",
       "60     0.4  128 0.08398693 0.06037748\n",
       "61     0.5  128 0.08398693 0.06037748\n",
       "62     0.6  128 0.08398693 0.06037748\n",
       "63     0.7  128 0.08398693 0.06037748\n",
       "64     0.8  128 0.08398693 0.06037748\n",
       "65     0.9  128 0.08398693 0.06037748\n",
       "66     1.0  128 0.08398693 0.06037748\n"
      ]
     },
     "metadata": {},
     "output_type": "display_data"
    }
   ],
   "source": [
    "summary(tmodel)"
   ]
  },
  {
   "cell_type": "code",
   "execution_count": 37,
   "id": "e0bd6b82",
   "metadata": {},
   "outputs": [
    {
     "data": {
      "text/plain": [
       "\n",
       "Call:\n",
       "best.tune(METHOD = svm, train.x = Class ~ ., data = wine, ranges = list(epsilon = seq(0, \n",
       "    1, 0.1), cost = 2^(2:7)), type = \"C-classification\")\n",
       "\n",
       "\n",
       "Parameters:\n",
       "   SVM-Type:  C-classification \n",
       " SVM-Kernel:  radial \n",
       "       cost:  4 \n",
       "\n",
       "Number of Support Vectors:  45\n",
       "\n",
       " ( 14 19 12 )\n",
       "\n",
       "\n",
       "Number of Classes:  3 \n",
       "\n",
       "Levels: \n",
       " Low Middle Premium\n",
       "\n",
       "\n"
      ]
     },
     "metadata": {},
     "output_type": "display_data"
    }
   ],
   "source": [
    "mymodel=tmodel$best.model\n",
    "summary(mymodel)"
   ]
  },
  {
   "cell_type": "code",
   "execution_count": 38,
   "id": "363ad517",
   "metadata": {},
   "outputs": [
    {
     "data": {
      "text/plain": [
       "\n",
       "Call:\n",
       "best.tune(METHOD = svm, train.x = Class ~ ., data = wine, ranges = list(epsilon = seq(0, \n",
       "    1, 0.1), cost = 2^(2:7)), type = \"C-classification\")\n",
       "\n",
       "\n",
       "Parameters:\n",
       "   SVM-Type:  C-classification \n",
       " SVM-Kernel:  radial \n",
       "       cost:  4 \n",
       "\n",
       "Number of Support Vectors:  45\n",
       "\n",
       " ( 14 19 12 )\n",
       "\n",
       "\n",
       "Number of Classes:  3 \n",
       "\n",
       "Levels: \n",
       " Low Middle Premium\n",
       "\n",
       "\n"
      ]
     },
     "metadata": {},
     "output_type": "display_data"
    }
   ],
   "source": [
    "mymodel=tmodel$best.model\n",
    "summary(mymodel)"
   ]
  },
  {
   "cell_type": "code",
   "execution_count": 39,
   "id": "13fe1efd",
   "metadata": {},
   "outputs": [
    {
     "data": {
      "image/png": "[encoded data removed]",
      "text/plain": [
       "Plot with title \"SVM classification plot\""
      ]
     },
     "metadata": {
      "image/png": {
       "height": 420,
       "width": 420
      }
     },
     "output_type": "display_data"
    }
   ],
   "source": [
    "plot(mymodel,data=wine,Flavanoids~Hue,slice=list(OD=2,Proline=4))"
   ]
  },
  {
   "cell_type": "code",
   "execution_count": 40,
   "id": "1e8acb97",
   "metadata": {},
   "outputs": [
    {
     "data": {
      "text/plain": [
       "         Actual\n",
       "Predicted Low Middle Premium\n",
       "  Low      48      1       0\n",
       "  Middle    0     66       1\n",
       "  Premium   0      4      58"
      ]
     },
     "metadata": {},
     "output_type": "display_data"
    }
   ],
   "source": [
    "pred1=predict(mymodel,wine)\n",
    "tab1=table(Predicted=pred1,Actual=wine$Class)\n",
    "tab1"
   ]
  },
  {
   "cell_type": "code",
   "execution_count": 41,
   "id": "00e79f5b",
   "metadata": {},
   "outputs": [
    {
     "data": {
      "text/html": [
       "0.0337078651685393"
      ],
      "text/latex": [
       "0.0337078651685393"
      ],
      "text/markdown": [
       "0.0337078651685393"
      ],
      "text/plain": [
       "[1] 0.03370787"
      ]
     },
     "metadata": {},
     "output_type": "display_data"
    }
   ],
   "source": [
    "1-sum(diag(tab1)/sum(tab1))"
   ]
  },
  {
   "cell_type": "code",
   "execution_count": 42,
   "id": "085efd95",
   "metadata": {},
   "outputs": [
    {
     "data": {
      "text/html": [
       "0.966292134831461"
      ],
      "text/latex": [
       "0.966292134831461"
      ],
      "text/markdown": [
       "0.966292134831461"
      ],
      "text/plain": [
       "[1] 0.9662921"
      ]
     },
     "metadata": {},
     "output_type": "display_data"
    }
   ],
   "source": [
    "sum(diag(tab1)/sum(tab1))"
   ]
  }
 ],
 "metadata": {
  "kernelspec": {
   "display_name": "R",
   "language": "R",
   "name": "ir"
  },
  "language_info": {
   "codemirror_mode": "r",
   "file_extension": ".r",
   "mimetype": "text/x-r-source",
   "name": "R",
   "pygments_lexer": "r",
   "version": "4.3.0"
  }
 },
 "nbformat": 4,
 "nbformat_minor": 5
}

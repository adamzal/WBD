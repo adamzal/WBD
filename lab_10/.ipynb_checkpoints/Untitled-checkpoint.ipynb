{
 "cells": [
  {
   "cell_type": "code",
   "execution_count": 2,
   "id": "2e20cd84",
   "metadata": {},
   "outputs": [],
   "source": [
    "import numpy as np\n",
    "import pandas as pd\n",
    "from IPython.display import display\n",
    "from sklearn.model_selection import train_test_split"
   ]
  },
  {
   "cell_type": "code",
   "execution_count": 3,
   "id": "c159daa3",
   "metadata": {},
   "outputs": [],
   "source": [
    "df = pd.read_csv(\"VLagun_Total_Basins_DT.csv\")"
   ]
  },
  {
   "cell_type": "code",
   "execution_count": 4,
   "id": "b484d8a3",
   "metadata": {},
   "outputs": [
    {
     "data": {
      "text/html": [
       "<div>\n",
       "<style scoped>\n",
       "    .dataframe tbody tr th:only-of-type {\n",
       "        vertical-align: middle;\n",
       "    }\n",
       "\n",
       "    .dataframe tbody tr th {\n",
       "        vertical-align: top;\n",
       "    }\n",
       "\n",
       "    .dataframe thead th {\n",
       "        text-align: right;\n",
       "    }\n",
       "</style>\n",
       "<table border=\"1\" class=\"dataframe\">\n",
       "  <thead>\n",
       "    <tr style=\"text-align: right;\">\n",
       "      <th></th>\n",
       "      <th>PSU</th>\n",
       "      <th>O2</th>\n",
       "      <th>temp.</th>\n",
       "      <th>SS</th>\n",
       "      <th>SRP</th>\n",
       "      <th>DOP</th>\n",
       "      <th>PP</th>\n",
       "      <th>NH4N</th>\n",
       "      <th>NO3N</th>\n",
       "      <th>DON</th>\n",
       "      <th>...</th>\n",
       "      <th>Acartia tonsa</th>\n",
       "      <th>Eurytemora affinis</th>\n",
       "      <th>Cyclops sp.</th>\n",
       "      <th>Nauplii Cyclopoida</th>\n",
       "      <th>Nauplii Calanoida</th>\n",
       "      <th>Filinia longiseta</th>\n",
       "      <th>Keratella cochlearis cochlearis</th>\n",
       "      <th>Keratella cochlearis f.tecta</th>\n",
       "      <th>Keratella quadrata</th>\n",
       "      <th>Basin</th>\n",
       "    </tr>\n",
       "  </thead>\n",
       "  <tbody>\n",
       "    <tr>\n",
       "      <th>0</th>\n",
       "      <td>3.757624</td>\n",
       "      <td>9.46</td>\n",
       "      <td>18.3</td>\n",
       "      <td>52.0</td>\n",
       "      <td>3.5</td>\n",
       "      <td>11.7</td>\n",
       "      <td>185.0</td>\n",
       "      <td>0.039</td>\n",
       "      <td>0.022</td>\n",
       "      <td>0.551</td>\n",
       "      <td>...</td>\n",
       "      <td>0.9298</td>\n",
       "      <td>0.9251</td>\n",
       "      <td>0.0000</td>\n",
       "      <td>0.0025</td>\n",
       "      <td>0.0257</td>\n",
       "      <td>1.3152</td>\n",
       "      <td>0.8920</td>\n",
       "      <td>0.2714</td>\n",
       "      <td>0.0000</td>\n",
       "      <td>Eastern</td>\n",
       "    </tr>\n",
       "    <tr>\n",
       "      <th>1</th>\n",
       "      <td>3.504707</td>\n",
       "      <td>9.89</td>\n",
       "      <td>19.1</td>\n",
       "      <td>50.0</td>\n",
       "      <td>4.4</td>\n",
       "      <td>17.5</td>\n",
       "      <td>111.3</td>\n",
       "      <td>0.020</td>\n",
       "      <td>0.025</td>\n",
       "      <td>0.123</td>\n",
       "      <td>...</td>\n",
       "      <td>0.0378</td>\n",
       "      <td>0.0000</td>\n",
       "      <td>0.0000</td>\n",
       "      <td>0.0000</td>\n",
       "      <td>0.0000</td>\n",
       "      <td>0.0769</td>\n",
       "      <td>0.0640</td>\n",
       "      <td>0.0464</td>\n",
       "      <td>0.0000</td>\n",
       "      <td>Eastern</td>\n",
       "    </tr>\n",
       "    <tr>\n",
       "      <th>2</th>\n",
       "      <td>3.721493</td>\n",
       "      <td>9.63</td>\n",
       "      <td>17.5</td>\n",
       "      <td>62.0</td>\n",
       "      <td>11.7</td>\n",
       "      <td>13.0</td>\n",
       "      <td>117.6</td>\n",
       "      <td>0.036</td>\n",
       "      <td>0.021</td>\n",
       "      <td>0.727</td>\n",
       "      <td>...</td>\n",
       "      <td>0.0000</td>\n",
       "      <td>0.0000</td>\n",
       "      <td>0.0093</td>\n",
       "      <td>0.0138</td>\n",
       "      <td>0.0006</td>\n",
       "      <td>0.0466</td>\n",
       "      <td>0.0120</td>\n",
       "      <td>0.0044</td>\n",
       "      <td>0.0000</td>\n",
       "      <td>Eastern</td>\n",
       "    </tr>\n",
       "    <tr>\n",
       "      <th>3</th>\n",
       "      <td>4.407982</td>\n",
       "      <td>9.54</td>\n",
       "      <td>18.4</td>\n",
       "      <td>55.0</td>\n",
       "      <td>7.4</td>\n",
       "      <td>16.2</td>\n",
       "      <td>124.7</td>\n",
       "      <td>0.023</td>\n",
       "      <td>0.024</td>\n",
       "      <td>0.566</td>\n",
       "      <td>...</td>\n",
       "      <td>0.0000</td>\n",
       "      <td>0.0129</td>\n",
       "      <td>0.0060</td>\n",
       "      <td>0.0140</td>\n",
       "      <td>0.0155</td>\n",
       "      <td>0.0313</td>\n",
       "      <td>0.0079</td>\n",
       "      <td>0.0040</td>\n",
       "      <td>0.0000</td>\n",
       "      <td>Eastern</td>\n",
       "    </tr>\n",
       "    <tr>\n",
       "      <th>4</th>\n",
       "      <td>4.389916</td>\n",
       "      <td>9.34</td>\n",
       "      <td>17.8</td>\n",
       "      <td>53.0</td>\n",
       "      <td>13.8</td>\n",
       "      <td>21.4</td>\n",
       "      <td>84.4</td>\n",
       "      <td>0.031</td>\n",
       "      <td>0.030</td>\n",
       "      <td>0.022</td>\n",
       "      <td>...</td>\n",
       "      <td>0.0000</td>\n",
       "      <td>0.0141</td>\n",
       "      <td>0.0000</td>\n",
       "      <td>0.0093</td>\n",
       "      <td>0.0007</td>\n",
       "      <td>0.0491</td>\n",
       "      <td>0.0143</td>\n",
       "      <td>0.0019</td>\n",
       "      <td>0.0026</td>\n",
       "      <td>Eastern</td>\n",
       "    </tr>\n",
       "  </tbody>\n",
       "</table>\n",
       "<p>5 rows × 36 columns</p>\n",
       "</div>"
      ],
      "text/plain": [
       "        PSU    O2  temp.    SS   SRP   DOP     PP   NH4N   NO3N    DON  ...  \\\n",
       "0  3.757624  9.46   18.3  52.0   3.5  11.7  185.0  0.039  0.022  0.551  ...   \n",
       "1  3.504707  9.89   19.1  50.0   4.4  17.5  111.3  0.020  0.025  0.123  ...   \n",
       "2  3.721493  9.63   17.5  62.0  11.7  13.0  117.6  0.036  0.021  0.727  ...   \n",
       "3  4.407982  9.54   18.4  55.0   7.4  16.2  124.7  0.023  0.024  0.566  ...   \n",
       "4  4.389916  9.34   17.8  53.0  13.8  21.4   84.4  0.031  0.030  0.022  ...   \n",
       "\n",
       "   Acartia tonsa  Eurytemora affinis  Cyclops sp.  Nauplii Cyclopoida  \\\n",
       "0         0.9298              0.9251       0.0000              0.0025   \n",
       "1         0.0378              0.0000       0.0000              0.0000   \n",
       "2         0.0000              0.0000       0.0093              0.0138   \n",
       "3         0.0000              0.0129       0.0060              0.0140   \n",
       "4         0.0000              0.0141       0.0000              0.0093   \n",
       "\n",
       "   Nauplii Calanoida  Filinia longiseta  Keratella cochlearis cochlearis  \\\n",
       "0             0.0257             1.3152                           0.8920   \n",
       "1             0.0000             0.0769                           0.0640   \n",
       "2             0.0006             0.0466                           0.0120   \n",
       "3             0.0155             0.0313                           0.0079   \n",
       "4             0.0007             0.0491                           0.0143   \n",
       "\n",
       "   Keratella cochlearis f.tecta  Keratella quadrata    Basin  \n",
       "0                        0.2714              0.0000  Eastern  \n",
       "1                        0.0464              0.0000  Eastern  \n",
       "2                        0.0044              0.0000  Eastern  \n",
       "3                        0.0040              0.0000  Eastern  \n",
       "4                        0.0019              0.0026  Eastern  \n",
       "\n",
       "[5 rows x 36 columns]"
      ]
     },
     "metadata": {},
     "output_type": "display_data"
    }
   ],
   "source": [
    "display(df.head())"
   ]
  },
  {
   "cell_type": "code",
   "execution_count": 6,
   "id": "70bb7b87",
   "metadata": {},
   "outputs": [],
   "source": [
    "df.Basin = [1 if i==\"Western\" else 0 for i in df.Basin]"
   ]
  },
  {
   "cell_type": "code",
   "execution_count": 7,
   "id": "25914869",
   "metadata": {},
   "outputs": [
    {
     "data": {
      "text/html": [
       "<div>\n",
       "<style scoped>\n",
       "    .dataframe tbody tr th:only-of-type {\n",
       "        vertical-align: middle;\n",
       "    }\n",
       "\n",
       "    .dataframe tbody tr th {\n",
       "        vertical-align: top;\n",
       "    }\n",
       "\n",
       "    .dataframe thead th {\n",
       "        text-align: right;\n",
       "    }\n",
       "</style>\n",
       "<table border=\"1\" class=\"dataframe\">\n",
       "  <thead>\n",
       "    <tr style=\"text-align: right;\">\n",
       "      <th></th>\n",
       "      <th>PSU</th>\n",
       "      <th>O2</th>\n",
       "      <th>temp.</th>\n",
       "      <th>SS</th>\n",
       "      <th>SRP</th>\n",
       "      <th>DOP</th>\n",
       "      <th>PP</th>\n",
       "      <th>NH4N</th>\n",
       "      <th>NO3N</th>\n",
       "      <th>DON</th>\n",
       "      <th>...</th>\n",
       "      <th>Acartia tonsa</th>\n",
       "      <th>Eurytemora affinis</th>\n",
       "      <th>Cyclops sp.</th>\n",
       "      <th>Nauplii Cyclopoida</th>\n",
       "      <th>Nauplii Calanoida</th>\n",
       "      <th>Filinia longiseta</th>\n",
       "      <th>Keratella cochlearis cochlearis</th>\n",
       "      <th>Keratella cochlearis f.tecta</th>\n",
       "      <th>Keratella quadrata</th>\n",
       "      <th>Basin</th>\n",
       "    </tr>\n",
       "  </thead>\n",
       "  <tbody>\n",
       "    <tr>\n",
       "      <th>0</th>\n",
       "      <td>3.757624</td>\n",
       "      <td>9.46</td>\n",
       "      <td>18.3</td>\n",
       "      <td>52.0</td>\n",
       "      <td>3.5</td>\n",
       "      <td>11.7</td>\n",
       "      <td>185.0</td>\n",
       "      <td>0.039</td>\n",
       "      <td>0.022</td>\n",
       "      <td>0.551</td>\n",
       "      <td>...</td>\n",
       "      <td>0.9298</td>\n",
       "      <td>0.9251</td>\n",
       "      <td>0.0000</td>\n",
       "      <td>0.0025</td>\n",
       "      <td>0.0257</td>\n",
       "      <td>1.3152</td>\n",
       "      <td>0.8920</td>\n",
       "      <td>0.2714</td>\n",
       "      <td>0.0000</td>\n",
       "      <td>0</td>\n",
       "    </tr>\n",
       "    <tr>\n",
       "      <th>1</th>\n",
       "      <td>3.504707</td>\n",
       "      <td>9.89</td>\n",
       "      <td>19.1</td>\n",
       "      <td>50.0</td>\n",
       "      <td>4.4</td>\n",
       "      <td>17.5</td>\n",
       "      <td>111.3</td>\n",
       "      <td>0.020</td>\n",
       "      <td>0.025</td>\n",
       "      <td>0.123</td>\n",
       "      <td>...</td>\n",
       "      <td>0.0378</td>\n",
       "      <td>0.0000</td>\n",
       "      <td>0.0000</td>\n",
       "      <td>0.0000</td>\n",
       "      <td>0.0000</td>\n",
       "      <td>0.0769</td>\n",
       "      <td>0.0640</td>\n",
       "      <td>0.0464</td>\n",
       "      <td>0.0000</td>\n",
       "      <td>0</td>\n",
       "    </tr>\n",
       "    <tr>\n",
       "      <th>2</th>\n",
       "      <td>3.721493</td>\n",
       "      <td>9.63</td>\n",
       "      <td>17.5</td>\n",
       "      <td>62.0</td>\n",
       "      <td>11.7</td>\n",
       "      <td>13.0</td>\n",
       "      <td>117.6</td>\n",
       "      <td>0.036</td>\n",
       "      <td>0.021</td>\n",
       "      <td>0.727</td>\n",
       "      <td>...</td>\n",
       "      <td>0.0000</td>\n",
       "      <td>0.0000</td>\n",
       "      <td>0.0093</td>\n",
       "      <td>0.0138</td>\n",
       "      <td>0.0006</td>\n",
       "      <td>0.0466</td>\n",
       "      <td>0.0120</td>\n",
       "      <td>0.0044</td>\n",
       "      <td>0.0000</td>\n",
       "      <td>0</td>\n",
       "    </tr>\n",
       "    <tr>\n",
       "      <th>3</th>\n",
       "      <td>4.407982</td>\n",
       "      <td>9.54</td>\n",
       "      <td>18.4</td>\n",
       "      <td>55.0</td>\n",
       "      <td>7.4</td>\n",
       "      <td>16.2</td>\n",
       "      <td>124.7</td>\n",
       "      <td>0.023</td>\n",
       "      <td>0.024</td>\n",
       "      <td>0.566</td>\n",
       "      <td>...</td>\n",
       "      <td>0.0000</td>\n",
       "      <td>0.0129</td>\n",
       "      <td>0.0060</td>\n",
       "      <td>0.0140</td>\n",
       "      <td>0.0155</td>\n",
       "      <td>0.0313</td>\n",
       "      <td>0.0079</td>\n",
       "      <td>0.0040</td>\n",
       "      <td>0.0000</td>\n",
       "      <td>0</td>\n",
       "    </tr>\n",
       "    <tr>\n",
       "      <th>4</th>\n",
       "      <td>4.389916</td>\n",
       "      <td>9.34</td>\n",
       "      <td>17.8</td>\n",
       "      <td>53.0</td>\n",
       "      <td>13.8</td>\n",
       "      <td>21.4</td>\n",
       "      <td>84.4</td>\n",
       "      <td>0.031</td>\n",
       "      <td>0.030</td>\n",
       "      <td>0.022</td>\n",
       "      <td>...</td>\n",
       "      <td>0.0000</td>\n",
       "      <td>0.0141</td>\n",
       "      <td>0.0000</td>\n",
       "      <td>0.0093</td>\n",
       "      <td>0.0007</td>\n",
       "      <td>0.0491</td>\n",
       "      <td>0.0143</td>\n",
       "      <td>0.0019</td>\n",
       "      <td>0.0026</td>\n",
       "      <td>0</td>\n",
       "    </tr>\n",
       "  </tbody>\n",
       "</table>\n",
       "<p>5 rows × 36 columns</p>\n",
       "</div>"
      ],
      "text/plain": [
       "        PSU    O2  temp.    SS   SRP   DOP     PP   NH4N   NO3N    DON  ...  \\\n",
       "0  3.757624  9.46   18.3  52.0   3.5  11.7  185.0  0.039  0.022  0.551  ...   \n",
       "1  3.504707  9.89   19.1  50.0   4.4  17.5  111.3  0.020  0.025  0.123  ...   \n",
       "2  3.721493  9.63   17.5  62.0  11.7  13.0  117.6  0.036  0.021  0.727  ...   \n",
       "3  4.407982  9.54   18.4  55.0   7.4  16.2  124.7  0.023  0.024  0.566  ...   \n",
       "4  4.389916  9.34   17.8  53.0  13.8  21.4   84.4  0.031  0.030  0.022  ...   \n",
       "\n",
       "   Acartia tonsa  Eurytemora affinis  Cyclops sp.  Nauplii Cyclopoida  \\\n",
       "0         0.9298              0.9251       0.0000              0.0025   \n",
       "1         0.0378              0.0000       0.0000              0.0000   \n",
       "2         0.0000              0.0000       0.0093              0.0138   \n",
       "3         0.0000              0.0129       0.0060              0.0140   \n",
       "4         0.0000              0.0141       0.0000              0.0093   \n",
       "\n",
       "   Nauplii Calanoida  Filinia longiseta  Keratella cochlearis cochlearis  \\\n",
       "0             0.0257             1.3152                           0.8920   \n",
       "1             0.0000             0.0769                           0.0640   \n",
       "2             0.0006             0.0466                           0.0120   \n",
       "3             0.0155             0.0313                           0.0079   \n",
       "4             0.0007             0.0491                           0.0143   \n",
       "\n",
       "   Keratella cochlearis f.tecta  Keratella quadrata  Basin  \n",
       "0                        0.2714              0.0000      0  \n",
       "1                        0.0464              0.0000      0  \n",
       "2                        0.0044              0.0000      0  \n",
       "3                        0.0040              0.0000      0  \n",
       "4                        0.0019              0.0026      0  \n",
       "\n",
       "[5 rows x 36 columns]"
      ]
     },
     "metadata": {},
     "output_type": "display_data"
    }
   ],
   "source": [
    "display(df.head())"
   ]
  },
  {
   "cell_type": "code",
   "execution_count": 8,
   "id": "3621f3e6",
   "metadata": {},
   "outputs": [],
   "source": [
    "X = df.drop(\"Basin\", axis=1)\n",
    "y = df[\"Basin\"]"
   ]
  },
  {
   "cell_type": "code",
   "execution_count": 9,
   "id": "3c979f74",
   "metadata": {},
   "outputs": [],
   "source": [
    "X_train, X_test, y_train, y_test = train_test_split(X, y, test_size =0.3, random_state=0)"
   ]
  },
  {
   "cell_type": "code",
   "execution_count": 10,
   "id": "2a2f2cf1",
   "metadata": {},
   "outputs": [
    {
     "name": "stdout",
     "output_type": "stream",
     "text": [
      "#Training data points: 108\n",
      "#Testing data points: 47\n",
      "#Class: [0 1]\n"
     ]
    }
   ],
   "source": [
    "print(f\"#Training data points: {X_train.shape[0]}\")\n",
    "print(f\"#Testing data points: {X_test.shape[0]}\")\n",
    "print(f\"#Class: {np.unique(y)}\")"
   ]
  },
  {
   "cell_type": "code",
   "execution_count": 14,
   "id": "8c7c023f",
   "metadata": {},
   "outputs": [
    {
     "name": "stdout",
     "output_type": "stream",
     "text": [
      "Misclassified samples: 13\n",
      "Test dataset Accuracy (tree): 0.72\n"
     ]
    }
   ],
   "source": [
    "from sklearn.tree import DecisionTreeClassifier\n",
    "tree = DecisionTreeClassifier(criterion = 'entropy',\n",
    "                             max_depth=3,\n",
    "                             min_samples_leaf=5,\n",
    "                             random_state=0)\n",
    "\n",
    "tree.fit(X_train, y_train)\n",
    "y_pred = tree.predict(X_test)\n",
    "print(f\"Misclassified samples: {(y_test != y_pred).sum()}\")\n",
    "print(f'Test dataset Accuracy (tree): {round((y_test == y_pred).sum()/y_test.shape[0],2)}')"
   ]
  },
  {
   "cell_type": "code",
   "execution_count": 15,
   "id": "408122b3",
   "metadata": {},
   "outputs": [
    {
     "name": "stdout",
     "output_type": "stream",
     "text": [
      "Misclassified samples: 21\n",
      "Test dataset Accuracy (tree): 0.81\n"
     ]
    }
   ],
   "source": [
    "from sklearn.tree import DecisionTreeClassifier\n",
    "tree = DecisionTreeClassifier(criterion = 'entropy',\n",
    "                             max_depth=3,\n",
    "                             min_samples_leaf=5,\n",
    "                             random_state=0)\n",
    "\n",
    "tree.fit(X_train, y_train)\n",
    "y_pred = tree.predict(X_train)\n",
    "print(f\"Misclassified samples: {(y_train != y_pred).sum()}\")\n",
    "print(f'Test dataset Accuracy (tree): {round((y_train == y_pred).sum()/y_train.shape[0],2)}')"
   ]
  },
  {
   "cell_type": "code",
   "execution_count": 16,
   "id": "9070e377",
   "metadata": {},
   "outputs": [],
   "source": [
    "from sklearn.tree import export_graphviz\n",
    "\n",
    "export_graphviz(tree,\n",
    "               out_file=\"tree.dot\",\n",
    "               feature_names=X.columns.values)"
   ]
  },
  {
   "cell_type": "code",
   "execution_count": 18,
   "id": "a7e60f98",
   "metadata": {},
   "outputs": [
    {
     "data": {
      "text/html": [
       "<style>#sk-container-id-1 {color: black;background-color: white;}#sk-container-id-1 pre{padding: 0;}#sk-container-id-1 div.sk-toggleable {background-color: white;}#sk-container-id-1 label.sk-toggleable__label {cursor: pointer;display: block;width: 100%;margin-bottom: 0;padding: 0.3em;box-sizing: border-box;text-align: center;}#sk-container-id-1 label.sk-toggleable__label-arrow:before {content: \"▸\";float: left;margin-right: 0.25em;color: #696969;}#sk-container-id-1 label.sk-toggleable__label-arrow:hover:before {color: black;}#sk-container-id-1 div.sk-estimator:hover label.sk-toggleable__label-arrow:before {color: black;}#sk-container-id-1 div.sk-toggleable__content {max-height: 0;max-width: 0;overflow: hidden;text-align: left;background-color: #f0f8ff;}#sk-container-id-1 div.sk-toggleable__content pre {margin: 0.2em;color: black;border-radius: 0.25em;background-color: #f0f8ff;}#sk-container-id-1 input.sk-toggleable__control:checked~div.sk-toggleable__content {max-height: 200px;max-width: 100%;overflow: auto;}#sk-container-id-1 input.sk-toggleable__control:checked~label.sk-toggleable__label-arrow:before {content: \"▾\";}#sk-container-id-1 div.sk-estimator input.sk-toggleable__control:checked~label.sk-toggleable__label {background-color: #d4ebff;}#sk-container-id-1 div.sk-label input.sk-toggleable__control:checked~label.sk-toggleable__label {background-color: #d4ebff;}#sk-container-id-1 input.sk-hidden--visually {border: 0;clip: rect(1px 1px 1px 1px);clip: rect(1px, 1px, 1px, 1px);height: 1px;margin: -1px;overflow: hidden;padding: 0;position: absolute;width: 1px;}#sk-container-id-1 div.sk-estimator {font-family: monospace;background-color: #f0f8ff;border: 1px dotted black;border-radius: 0.25em;box-sizing: border-box;margin-bottom: 0.5em;}#sk-container-id-1 div.sk-estimator:hover {background-color: #d4ebff;}#sk-container-id-1 div.sk-parallel-item::after {content: \"\";width: 100%;border-bottom: 1px solid gray;flex-grow: 1;}#sk-container-id-1 div.sk-label:hover label.sk-toggleable__label {background-color: #d4ebff;}#sk-container-id-1 div.sk-serial::before {content: \"\";position: absolute;border-left: 1px solid gray;box-sizing: border-box;top: 0;bottom: 0;left: 50%;z-index: 0;}#sk-container-id-1 div.sk-serial {display: flex;flex-direction: column;align-items: center;background-color: white;padding-right: 0.2em;padding-left: 0.2em;position: relative;}#sk-container-id-1 div.sk-item {position: relative;z-index: 1;}#sk-container-id-1 div.sk-parallel {display: flex;align-items: stretch;justify-content: center;background-color: white;position: relative;}#sk-container-id-1 div.sk-item::before, #sk-container-id-1 div.sk-parallel-item::before {content: \"\";position: absolute;border-left: 1px solid gray;box-sizing: border-box;top: 0;bottom: 0;left: 50%;z-index: -1;}#sk-container-id-1 div.sk-parallel-item {display: flex;flex-direction: column;z-index: 1;position: relative;background-color: white;}#sk-container-id-1 div.sk-parallel-item:first-child::after {align-self: flex-end;width: 50%;}#sk-container-id-1 div.sk-parallel-item:last-child::after {align-self: flex-start;width: 50%;}#sk-container-id-1 div.sk-parallel-item:only-child::after {width: 0;}#sk-container-id-1 div.sk-dashed-wrapped {border: 1px dashed gray;margin: 0 0.4em 0.5em 0.4em;box-sizing: border-box;padding-bottom: 0.4em;background-color: white;}#sk-container-id-1 div.sk-label label {font-family: monospace;font-weight: bold;display: inline-block;line-height: 1.2em;}#sk-container-id-1 div.sk-label-container {text-align: center;}#sk-container-id-1 div.sk-container {/* jupyter's `normalize.less` sets `[hidden] { display: none; }` but bootstrap.min.css set `[hidden] { display: none !important; }` so we also need the `!important` here to be able to override the default hidden behavior on the sphinx rendered scikit-learn.org. See: https://github.com/scikit-learn/scikit-learn/issues/21755 */display: inline-block !important;position: relative;}#sk-container-id-1 div.sk-text-repr-fallback {display: none;}</style><div id=\"sk-container-id-1\" class=\"sk-top-container\"><div class=\"sk-text-repr-fallback\"><pre>RandomForestClassifier(criterion=&#x27;entropy&#x27;, n_estimators=200, n_jobs=2,\n",
       "                       random_state=1)</pre><b>In a Jupyter environment, please rerun this cell to show the HTML representation or trust the notebook. <br />On GitHub, the HTML representation is unable to render, please try loading this page with nbviewer.org.</b></div><div class=\"sk-container\" hidden><div class=\"sk-item\"><div class=\"sk-estimator sk-toggleable\"><input class=\"sk-toggleable__control sk-hidden--visually\" id=\"sk-estimator-id-1\" type=\"checkbox\" checked><label for=\"sk-estimator-id-1\" class=\"sk-toggleable__label sk-toggleable__label-arrow\">RandomForestClassifier</label><div class=\"sk-toggleable__content\"><pre>RandomForestClassifier(criterion=&#x27;entropy&#x27;, n_estimators=200, n_jobs=2,\n",
       "                       random_state=1)</pre></div></div></div></div></div>"
      ],
      "text/plain": [
       "RandomForestClassifier(criterion='entropy', n_estimators=200, n_jobs=2,\n",
       "                       random_state=1)"
      ]
     },
     "execution_count": 18,
     "metadata": {},
     "output_type": "execute_result"
    }
   ],
   "source": [
    "from sklearn.ensemble import RandomForestClassifier\n",
    "forest = RandomForestClassifier(criterion='entropy',\n",
    "                               n_estimators=200,\n",
    "                               random_state=1,\n",
    "                               n_jobs=2)\n",
    "\n",
    "forest.fit(X_train, y_train)"
   ]
  },
  {
   "cell_type": "code",
   "execution_count": 20,
   "id": "b717406f",
   "metadata": {},
   "outputs": [
    {
     "name": "stdout",
     "output_type": "stream",
     "text": [
      "Test dataset Accuracy (forest): 0.7659574468085106\n"
     ]
    }
   ],
   "source": [
    "from sklearn.metrics import accuracy_score\n",
    "y_pred=forest.predict(X_test)\n",
    "print(f'Test dataset Accuracy (forest): {accuracy_score(y_test, y_pred)}')"
   ]
  },
  {
   "cell_type": "code",
   "execution_count": 21,
   "id": "9e8ab319",
   "metadata": {},
   "outputs": [
    {
     "name": "stdout",
     "output_type": "stream",
     "text": [
      "Test dataset Accuracy (forest): 1.0\n"
     ]
    }
   ],
   "source": [
    "y_pred=forest.predict(X_train)\n",
    "print(f'Test dataset Accuracy (forest): {accuracy_score(y_train, y_pred)}')"
   ]
  },
  {
   "cell_type": "code",
   "execution_count": 24,
   "id": "5952e4fe",
   "metadata": {},
   "outputs": [
    {
     "name": "stdout",
     "output_type": "stream",
     "text": [
      " 1) Nauplii Cyclopoida   0.087723\n",
      " 2) Cyclops sp.          0.072056\n",
      " 3) Depth                0.068339\n",
      " 4) DON                  0.053796\n",
      " 5) PSU                  0.042186\n",
      " 6) DOP                  0.037714\n",
      " 7) O2                   0.036068\n",
      " 8) DOC                  0.035916\n",
      " 9) Cyanobacteria        0.031511\n",
      "10) Acartia tonsa        0.029091\n",
      "11) TN/TP                0.027812\n",
      "12) Keratella cochlearis cochlearis 0.027801\n",
      "13) temp.                0.027305\n",
      "14) SS                   0.026483\n",
      "15) PP                   0.024106\n",
      "16) SRP                  0.023878\n",
      "17) PN                   0.023749\n",
      "18) Diatomophyceae       0.023105\n",
      "19) Chlorophyceae        0.022410\n",
      "20) picophytoplankton    0.021967\n",
      "21) Keratella cochlearis f.tecta 0.021755\n",
      "22) TPOC                 0.021634\n",
      "23) SiO4Si               0.021333\n",
      "24) Filinia longiseta    0.020858\n",
      "25) NH4N                 0.020450\n",
      "26) NO3N                 0.020062\n",
      "27) Diaphanosoma brachyurum 0.018839\n",
      "28) Flagellata           0.017923\n",
      "29) Fe                   0.015881\n",
      "30) Windspeedinsitu      0.015663\n",
      "31) Eurytemora affinis   0.014038\n",
      "32) Acartia longiremis   0.013748\n",
      "33) Euglenophyceae       0.012616\n",
      "34) Nauplii Calanoida    0.012161\n",
      "35) Keratella quadrata   0.010024\n"
     ]
    }
   ],
   "source": [
    "import numpy as np\n",
    "import matplotlib.pyplot as plt\n",
    "importances = forest.feature_importances_\n",
    "\n",
    "indices = np.argsort(importances)[::-1]\n",
    "\n",
    "for f in range(X_train.shape[1]):\n",
    "    print(\"%2d) %-*s %f\" % (f+1,\n",
    "                           20,\n",
    "                           X.columns.values[indices[f]],\n",
    "                           importances[indices[f]]))"
   ]
  },
  {
   "cell_type": "code",
   "execution_count": 26,
   "id": "676e84ff",
   "metadata": {},
   "outputs": [
    {
     "data": {
      "image/png": "[encoded data removed]",
      "text/plain": [
       "<Figure size 640x480 with 1 Axes>"
      ]
     },
     "metadata": {},
     "output_type": "display_data"
    }
   ],
   "source": [
    "plt.figure()\n",
    "plt.title('Feature Importances')\n",
    "plt.bar(range(X_train.shape[1]),\n",
    "       importances[indices],\n",
    "       align='center',\n",
    "       alpha=.5)\n",
    "\n",
    "plt.xticks(range(X_train.shape[1]),\n",
    "           X.columns.values[indices], rotation=90)\n",
    "plt.tight_layout()\n",
    "plt.savefig(\"fig-forest-feature-importances.png\", dpi=300)\n",
    "plt.show()"
   ]
  },
  {
   "cell_type": "code",
   "execution_count": 29,
   "id": "4a1aeed4",
   "metadata": {},
   "outputs": [
    {
     "data": {
      "image/png": "[encoded data removed]",
      "text/plain": [
       "<Figure size 640x480 with 1 Axes>"
      ]
     },
     "metadata": {},
     "output_type": "display_data"
    }
   ],
   "source": [
    "Z_forest = X[['Nauplii Cyclopoida','Cyclops sp.']].values\n",
    "\n",
    "colors = ['r', 'b', 'g', 'k']\n",
    "markers = ['s', 'x', 'o', '^']\n",
    "for l, c, m in zip(np.unique(y.values), colors, markers):\n",
    "    plt.scatter(Z_forest[y.values==l,0],\n",
    "               Z_forest[y.values==l,1],\n",
    "               c=c, label=l, marker=m)\n",
    "    \n",
    "plt.title('Z_forest')\n",
    "plt.xlabel(\"Nauplii Cyclopoida\")\n",
    "plt.ylabel('Cyclops sp.')\n",
    "plt.legend(loc='lower right')\n",
    "plt.tight_layout()\n",
    "plt.savefig(\"fig-forest-z.png\", dpi=300)\n",
    "plt.show()"
   ]
  },
  {
   "cell_type": "code",
   "execution_count": 32,
   "id": "a778e912",
   "metadata": {},
   "outputs": [
    {
     "name": "stdout",
     "output_type": "stream",
     "text": [
      "Test dataset Accuracy (tree_forest): 0.68\n"
     ]
    }
   ],
   "source": [
    "Z_forest_train, Z_forest_test, y_forest_train, y_forest_test = train_test_split(\n",
    "Z_forest, y, test_size=0.3, random_state=0)\n",
    "\n",
    "tree_forest = DecisionTreeClassifier(criterion='entropy',\n",
    "                                    max_depth=10, min_samples_leaf=5,\n",
    "                                    random_state=0)\n",
    "tree_forest.fit(Z_forest_train, y_forest_train)\n",
    "\n",
    "y_forest_pred = tree_forest.predict(Z_forest_test)\n",
    "print(f\"Test dataset Accuracy (tree_forest): {round(accuracy_score(y_forest_test, y_forest_pred),2)}\")"
   ]
  },
  {
   "cell_type": "code",
   "execution_count": 33,
   "id": "44da4424",
   "metadata": {},
   "outputs": [
    {
     "name": "stdout",
     "output_type": "stream",
     "text": [
      "Test dataset Accuracy (tree_forest): 0.8\n"
     ]
    }
   ],
   "source": [
    "Z_forest_train, Z_forest_test, y_forest_train, y_forest_test = train_test_split(\n",
    "Z_forest, y, test_size=0.3, random_state=0)\n",
    "\n",
    "tree_forest = DecisionTreeClassifier(criterion='entropy',\n",
    "                                    max_depth=10, min_samples_leaf=5,\n",
    "                                    random_state=0)\n",
    "tree_forest.fit(Z_forest_train, y_forest_train)\n",
    "\n",
    "y_forest_pred = tree_forest.predict(Z_forest_train)\n",
    "print(f\"Test dataset Accuracy (tree_forest): {round(accuracy_score(y_forest_train, y_forest_pred),2)}\")"
   ]
  },
  {
   "cell_type": "code",
   "execution_count": 34,
   "id": "9deff42c",
   "metadata": {},
   "outputs": [
    {
     "name": "stdout",
     "output_type": "stream",
     "text": [
      " 1) Nauplii Cyclopoida   0.087723\n"
     ]
    },
    {
     "name": "stderr",
     "output_type": "stream",
     "text": [
      "C:\\Users\\adamz\\miniconda3\\lib\\site-packages\\sklearn\\base.py:432: UserWarning: X has feature names, but SelectFromModel was fitted without feature names\n",
      "  warnings.warn(\n"
     ]
    }
   ],
   "source": [
    "from sklearn.feature_selection import SelectFromModel\n",
    "sfm = SelectFromModel(forest, threshold=.075, prefit=True)\n",
    "Z_forest_alt = sfm.transform(X)\n",
    "\n",
    "for f in range(Z_forest_alt.shape[1]):\n",
    "    print(\"%2d) %-*s %f\" % (f+1,\n",
    "                           20,\n",
    "                           X.columns.values[indices[f]],\n",
    "                           importances[indices[f]]))"
   ]
  },
  {
   "cell_type": "code",
   "execution_count": null,
   "id": "9f108baf",
   "metadata": {},
   "outputs": [],
   "source": []
  }
 ],
 "metadata": {
  "kernelspec": {
   "display_name": "Python 3 (ipykernel)",
   "language": "python",
   "name": "python3"
  },
  "language_info": {
   "codemirror_mode": {
    "name": "ipython",
    "version": 3
   },
   "file_extension": ".py",
   "mimetype": "text/x-python",
   "name": "python",
   "nbconvert_exporter": "python",
   "pygments_lexer": "ipython3",
   "version": "3.10.11"
  }
 },
 "nbformat": 4,
 "nbformat_minor": 5
}

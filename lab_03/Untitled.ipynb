{
 "cells": [
  {
   "cell_type": "code",
   "execution_count": 1,
   "id": "0a241e57",
   "metadata": {},
   "outputs": [],
   "source": [
    "import pandas as pd\n",
    "import matplotlib.pyplot as plt\n",
    "import numpy as np\n",
    "import seaborn as sns\n",
    "\n",
    "from sklearn.model_selection import train_test_split\n",
    "from sklearn.linear_model import LogisticRegression\n",
    "from sklearn import metrics\n",
    "from sklearn.metrics import classification_report"
   ]
  },
  {
   "cell_type": "code",
   "execution_count": 2,
   "id": "66707a09",
   "metadata": {},
   "outputs": [],
   "source": [
    "dataset_1=pd.read_csv(\"Vlagun_Crus_Basins.csv\")\n",
    "dataset_2=pd.read_csv(\"Vlagun_Rotif_Basins.csv\")"
   ]
  },
  {
   "cell_type": "code",
   "execution_count": 3,
   "id": "2d5f1013",
   "metadata": {},
   "outputs": [
    {
     "data": {
      "text/html": [
       "<div>\n",
       "<style scoped>\n",
       "    .dataframe tbody tr th:only-of-type {\n",
       "        vertical-align: middle;\n",
       "    }\n",
       "\n",
       "    .dataframe tbody tr th {\n",
       "        vertical-align: top;\n",
       "    }\n",
       "\n",
       "    .dataframe thead th {\n",
       "        text-align: right;\n",
       "    }\n",
       "</style>\n",
       "<table border=\"1\" class=\"dataframe\">\n",
       "  <thead>\n",
       "    <tr style=\"text-align: right;\">\n",
       "      <th></th>\n",
       "      <th>Bosmina longirostris</th>\n",
       "      <th>Ceriodaphnia sp.</th>\n",
       "      <th>Diaphanosoma brachyurum</th>\n",
       "      <th>Leptodora kindtii</th>\n",
       "      <th>Acartia longiremis</th>\n",
       "      <th>Acartia tonsa</th>\n",
       "      <th>Eurytemora affinis</th>\n",
       "      <th>Cyclops sp.</th>\n",
       "      <th>Nauplii Cyclopoida</th>\n",
       "      <th>Nauplii Calanoida</th>\n",
       "      <th>Thermocyclops oithonoides</th>\n",
       "      <th>Eurytemora lacustris</th>\n",
       "      <th>Basin</th>\n",
       "    </tr>\n",
       "  </thead>\n",
       "  <tbody>\n",
       "    <tr>\n",
       "      <th>0</th>\n",
       "      <td>0.0</td>\n",
       "      <td>0.0</td>\n",
       "      <td>0.0</td>\n",
       "      <td>0.0</td>\n",
       "      <td>2.0710</td>\n",
       "      <td>0.9298</td>\n",
       "      <td>0.9251</td>\n",
       "      <td>0.0000</td>\n",
       "      <td>0.0025</td>\n",
       "      <td>0.0257</td>\n",
       "      <td>0.0000</td>\n",
       "      <td>0.0</td>\n",
       "      <td>0</td>\n",
       "    </tr>\n",
       "    <tr>\n",
       "      <th>1</th>\n",
       "      <td>0.0</td>\n",
       "      <td>0.0</td>\n",
       "      <td>0.0</td>\n",
       "      <td>0.0</td>\n",
       "      <td>0.5014</td>\n",
       "      <td>0.0378</td>\n",
       "      <td>0.0000</td>\n",
       "      <td>0.0000</td>\n",
       "      <td>0.0000</td>\n",
       "      <td>0.0000</td>\n",
       "      <td>0.0000</td>\n",
       "      <td>0.0</td>\n",
       "      <td>0</td>\n",
       "    </tr>\n",
       "    <tr>\n",
       "      <th>2</th>\n",
       "      <td>0.0</td>\n",
       "      <td>0.0</td>\n",
       "      <td>0.0</td>\n",
       "      <td>0.0</td>\n",
       "      <td>0.0931</td>\n",
       "      <td>0.0000</td>\n",
       "      <td>0.0000</td>\n",
       "      <td>0.0093</td>\n",
       "      <td>0.0138</td>\n",
       "      <td>0.0006</td>\n",
       "      <td>0.0091</td>\n",
       "      <td>0.0</td>\n",
       "      <td>0</td>\n",
       "    </tr>\n",
       "    <tr>\n",
       "      <th>3</th>\n",
       "      <td>0.0</td>\n",
       "      <td>0.0</td>\n",
       "      <td>0.0</td>\n",
       "      <td>0.0</td>\n",
       "      <td>0.0000</td>\n",
       "      <td>0.0000</td>\n",
       "      <td>0.0129</td>\n",
       "      <td>0.0060</td>\n",
       "      <td>0.0140</td>\n",
       "      <td>0.0155</td>\n",
       "      <td>0.0179</td>\n",
       "      <td>0.0</td>\n",
       "      <td>0</td>\n",
       "    </tr>\n",
       "    <tr>\n",
       "      <th>4</th>\n",
       "      <td>0.0</td>\n",
       "      <td>0.0</td>\n",
       "      <td>0.0</td>\n",
       "      <td>0.0</td>\n",
       "      <td>0.0000</td>\n",
       "      <td>0.0000</td>\n",
       "      <td>0.0141</td>\n",
       "      <td>0.0000</td>\n",
       "      <td>0.0093</td>\n",
       "      <td>0.0007</td>\n",
       "      <td>0.0166</td>\n",
       "      <td>0.0</td>\n",
       "      <td>0</td>\n",
       "    </tr>\n",
       "  </tbody>\n",
       "</table>\n",
       "</div>"
      ],
      "text/plain": [
       "   Bosmina longirostris  Ceriodaphnia sp.  Diaphanosoma brachyurum  \\\n",
       "0                   0.0               0.0                      0.0   \n",
       "1                   0.0               0.0                      0.0   \n",
       "2                   0.0               0.0                      0.0   \n",
       "3                   0.0               0.0                      0.0   \n",
       "4                   0.0               0.0                      0.0   \n",
       "\n",
       "   Leptodora kindtii  Acartia longiremis  Acartia tonsa  Eurytemora affinis  \\\n",
       "0                0.0              2.0710         0.9298              0.9251   \n",
       "1                0.0              0.5014         0.0378              0.0000   \n",
       "2                0.0              0.0931         0.0000              0.0000   \n",
       "3                0.0              0.0000         0.0000              0.0129   \n",
       "4                0.0              0.0000         0.0000              0.0141   \n",
       "\n",
       "   Cyclops sp.  Nauplii Cyclopoida  Nauplii Calanoida  \\\n",
       "0       0.0000              0.0025             0.0257   \n",
       "1       0.0000              0.0000             0.0000   \n",
       "2       0.0093              0.0138             0.0006   \n",
       "3       0.0060              0.0140             0.0155   \n",
       "4       0.0000              0.0093             0.0007   \n",
       "\n",
       "   Thermocyclops oithonoides  Eurytemora lacustris  Basin  \n",
       "0                     0.0000                   0.0      0  \n",
       "1                     0.0000                   0.0      0  \n",
       "2                     0.0091                   0.0      0  \n",
       "3                     0.0179                   0.0      0  \n",
       "4                     0.0166                   0.0      0  "
      ]
     },
     "execution_count": 3,
     "metadata": {},
     "output_type": "execute_result"
    }
   ],
   "source": [
    "dataset_1.head()"
   ]
  },
  {
   "cell_type": "code",
   "execution_count": 4,
   "id": "7637242d",
   "metadata": {},
   "outputs": [
    {
     "data": {
      "text/html": [
       "<div>\n",
       "<style scoped>\n",
       "    .dataframe tbody tr th:only-of-type {\n",
       "        vertical-align: middle;\n",
       "    }\n",
       "\n",
       "    .dataframe tbody tr th {\n",
       "        vertical-align: top;\n",
       "    }\n",
       "\n",
       "    .dataframe thead th {\n",
       "        text-align: right;\n",
       "    }\n",
       "</style>\n",
       "<table border=\"1\" class=\"dataframe\">\n",
       "  <thead>\n",
       "    <tr style=\"text-align: right;\">\n",
       "      <th></th>\n",
       "      <th>Anureopsis fissa</th>\n",
       "      <th>Ascomorpha saltans</th>\n",
       "      <th>Asplanchna priodonta</th>\n",
       "      <th>Brachionus angularis</th>\n",
       "      <th>Brachionus calyciflorus calyciflorus</th>\n",
       "      <th>Brachionus calyciflorus f.amphiceros</th>\n",
       "      <th>Brachionus calyciflorus spinosus</th>\n",
       "      <th>Brachionus urceolaris</th>\n",
       "      <th>Brachionus calyciflorus f.anureiformis</th>\n",
       "      <th>Filinia longiseta</th>\n",
       "      <th>Keratella cochlearis cochlearis</th>\n",
       "      <th>Keratella cochlearis f.tecta</th>\n",
       "      <th>Keratella quadrata</th>\n",
       "      <th>Polyarthra vulgaris</th>\n",
       "      <th>Polyarthra platyptera</th>\n",
       "      <th>Pompholyx sp.</th>\n",
       "      <th>Synchaeta sp.</th>\n",
       "      <th>Trichocerca pusilla</th>\n",
       "      <th>Trichocerca similis</th>\n",
       "      <th>Basin</th>\n",
       "    </tr>\n",
       "  </thead>\n",
       "  <tbody>\n",
       "    <tr>\n",
       "      <th>0</th>\n",
       "      <td>0.0000</td>\n",
       "      <td>0.0068</td>\n",
       "      <td>0.0000</td>\n",
       "      <td>0.0000</td>\n",
       "      <td>0.0000</td>\n",
       "      <td>0.0</td>\n",
       "      <td>0.0</td>\n",
       "      <td>0.0</td>\n",
       "      <td>0.0</td>\n",
       "      <td>1.3152</td>\n",
       "      <td>0.8920</td>\n",
       "      <td>0.2714</td>\n",
       "      <td>0.0000</td>\n",
       "      <td>0.0313</td>\n",
       "      <td>0.0</td>\n",
       "      <td>0.0000</td>\n",
       "      <td>0.0000</td>\n",
       "      <td>0.0045</td>\n",
       "      <td>0.0009</td>\n",
       "      <td>0</td>\n",
       "    </tr>\n",
       "    <tr>\n",
       "      <th>1</th>\n",
       "      <td>0.0003</td>\n",
       "      <td>0.0000</td>\n",
       "      <td>0.0556</td>\n",
       "      <td>0.0000</td>\n",
       "      <td>0.0179</td>\n",
       "      <td>0.0</td>\n",
       "      <td>0.0</td>\n",
       "      <td>0.0</td>\n",
       "      <td>0.0</td>\n",
       "      <td>0.0769</td>\n",
       "      <td>0.0640</td>\n",
       "      <td>0.0464</td>\n",
       "      <td>0.0000</td>\n",
       "      <td>0.0111</td>\n",
       "      <td>0.0</td>\n",
       "      <td>0.0000</td>\n",
       "      <td>0.0437</td>\n",
       "      <td>0.0041</td>\n",
       "      <td>0.0020</td>\n",
       "      <td>0</td>\n",
       "    </tr>\n",
       "    <tr>\n",
       "      <th>2</th>\n",
       "      <td>0.0001</td>\n",
       "      <td>0.0000</td>\n",
       "      <td>0.0014</td>\n",
       "      <td>0.0000</td>\n",
       "      <td>0.0000</td>\n",
       "      <td>0.0</td>\n",
       "      <td>0.0</td>\n",
       "      <td>0.0</td>\n",
       "      <td>0.0</td>\n",
       "      <td>0.0466</td>\n",
       "      <td>0.0120</td>\n",
       "      <td>0.0044</td>\n",
       "      <td>0.0000</td>\n",
       "      <td>0.0000</td>\n",
       "      <td>0.0</td>\n",
       "      <td>0.0001</td>\n",
       "      <td>0.0000</td>\n",
       "      <td>0.0000</td>\n",
       "      <td>0.0000</td>\n",
       "      <td>0</td>\n",
       "    </tr>\n",
       "    <tr>\n",
       "      <th>3</th>\n",
       "      <td>0.0001</td>\n",
       "      <td>0.0000</td>\n",
       "      <td>0.0000</td>\n",
       "      <td>0.0000</td>\n",
       "      <td>0.0000</td>\n",
       "      <td>0.0</td>\n",
       "      <td>0.0</td>\n",
       "      <td>0.0</td>\n",
       "      <td>0.0</td>\n",
       "      <td>0.0313</td>\n",
       "      <td>0.0079</td>\n",
       "      <td>0.0040</td>\n",
       "      <td>0.0000</td>\n",
       "      <td>0.0000</td>\n",
       "      <td>0.0</td>\n",
       "      <td>0.0000</td>\n",
       "      <td>0.0000</td>\n",
       "      <td>0.0000</td>\n",
       "      <td>0.0000</td>\n",
       "      <td>0</td>\n",
       "    </tr>\n",
       "    <tr>\n",
       "      <th>4</th>\n",
       "      <td>0.0001</td>\n",
       "      <td>0.0000</td>\n",
       "      <td>0.0000</td>\n",
       "      <td>0.0003</td>\n",
       "      <td>0.0000</td>\n",
       "      <td>0.0</td>\n",
       "      <td>0.0</td>\n",
       "      <td>0.0</td>\n",
       "      <td>0.0</td>\n",
       "      <td>0.0491</td>\n",
       "      <td>0.0143</td>\n",
       "      <td>0.0019</td>\n",
       "      <td>0.0026</td>\n",
       "      <td>0.0000</td>\n",
       "      <td>0.0</td>\n",
       "      <td>0.0001</td>\n",
       "      <td>0.0000</td>\n",
       "      <td>0.0000</td>\n",
       "      <td>0.0000</td>\n",
       "      <td>0</td>\n",
       "    </tr>\n",
       "  </tbody>\n",
       "</table>\n",
       "</div>"
      ],
      "text/plain": [
       "   Anureopsis fissa  Ascomorpha saltans  Asplanchna priodonta  \\\n",
       "0            0.0000              0.0068                0.0000   \n",
       "1            0.0003              0.0000                0.0556   \n",
       "2            0.0001              0.0000                0.0014   \n",
       "3            0.0001              0.0000                0.0000   \n",
       "4            0.0001              0.0000                0.0000   \n",
       "\n",
       "   Brachionus angularis  Brachionus calyciflorus calyciflorus  \\\n",
       "0                0.0000                                0.0000   \n",
       "1                0.0000                                0.0179   \n",
       "2                0.0000                                0.0000   \n",
       "3                0.0000                                0.0000   \n",
       "4                0.0003                                0.0000   \n",
       "\n",
       "   Brachionus calyciflorus f.amphiceros  Brachionus calyciflorus spinosus  \\\n",
       "0                                   0.0                               0.0   \n",
       "1                                   0.0                               0.0   \n",
       "2                                   0.0                               0.0   \n",
       "3                                   0.0                               0.0   \n",
       "4                                   0.0                               0.0   \n",
       "\n",
       "   Brachionus urceolaris  Brachionus calyciflorus f.anureiformis  \\\n",
       "0                    0.0                                     0.0   \n",
       "1                    0.0                                     0.0   \n",
       "2                    0.0                                     0.0   \n",
       "3                    0.0                                     0.0   \n",
       "4                    0.0                                     0.0   \n",
       "\n",
       "   Filinia longiseta  Keratella cochlearis cochlearis  \\\n",
       "0             1.3152                           0.8920   \n",
       "1             0.0769                           0.0640   \n",
       "2             0.0466                           0.0120   \n",
       "3             0.0313                           0.0079   \n",
       "4             0.0491                           0.0143   \n",
       "\n",
       "   Keratella cochlearis f.tecta  Keratella quadrata  Polyarthra vulgaris  \\\n",
       "0                        0.2714              0.0000               0.0313   \n",
       "1                        0.0464              0.0000               0.0111   \n",
       "2                        0.0044              0.0000               0.0000   \n",
       "3                        0.0040              0.0000               0.0000   \n",
       "4                        0.0019              0.0026               0.0000   \n",
       "\n",
       "   Polyarthra platyptera  Pompholyx sp.  Synchaeta sp.  Trichocerca pusilla  \\\n",
       "0                    0.0         0.0000         0.0000               0.0045   \n",
       "1                    0.0         0.0000         0.0437               0.0041   \n",
       "2                    0.0         0.0001         0.0000               0.0000   \n",
       "3                    0.0         0.0000         0.0000               0.0000   \n",
       "4                    0.0         0.0001         0.0000               0.0000   \n",
       "\n",
       "   Trichocerca similis  Basin  \n",
       "0               0.0009      0  \n",
       "1               0.0020      0  \n",
       "2               0.0000      0  \n",
       "3               0.0000      0  \n",
       "4               0.0000      0  "
      ]
     },
     "execution_count": 4,
     "metadata": {},
     "output_type": "execute_result"
    }
   ],
   "source": [
    "dataset_2.head()"
   ]
  },
  {
   "cell_type": "code",
   "execution_count": 5,
   "id": "2c54bf1e",
   "metadata": {},
   "outputs": [],
   "source": [
    "dataset_1.dropna(inplace=True)\n",
    "dataset_2.dropna(inplace=True)"
   ]
  },
  {
   "cell_type": "code",
   "execution_count": 6,
   "id": "00d4eab2",
   "metadata": {},
   "outputs": [],
   "source": [
    "X_1=pd.get_dummies(dataset_1)\n",
    "X_1.drop(['Basin'], inplace=True, axis=1)\n",
    "Y_1 = dataset_1[\"Basin\"]"
   ]
  },
  {
   "cell_type": "code",
   "execution_count": 7,
   "id": "46559870",
   "metadata": {},
   "outputs": [],
   "source": [
    "X_2=pd.get_dummies(dataset_2)\n",
    "X_2.drop(['Basin'], inplace=True, axis=1)\n",
    "Y_2 = dataset_2[\"Basin\"]"
   ]
  },
  {
   "cell_type": "code",
   "execution_count": 8,
   "id": "3c85dd20",
   "metadata": {},
   "outputs": [],
   "source": [
    "X_1=X_1.iloc[:,0:12]\n",
    "Y_1=Y_1.iloc[:,]\n",
    "test_size_1 = 0.25\n",
    "X_train_1, X_test_1, y_train_1, y_test_1 = train_test_split(X_1,Y_1, test_size=test_size_1, random_state=16)"
   ]
  },
  {
   "cell_type": "code",
   "execution_count": 9,
   "id": "20d58281",
   "metadata": {},
   "outputs": [],
   "source": [
    "X_2=X_2.iloc[:,0:19]\n",
    "Y_2=Y_2.iloc[:,]\n",
    "test_size_2 = 0.25\n",
    "X_train_2, X_test_2, y_train_2, y_test_2 = train_test_split(X_2,Y_2, test_size=test_size_2, random_state=16)"
   ]
  },
  {
   "cell_type": "code",
   "execution_count": 10,
   "id": "59d409ea",
   "metadata": {},
   "outputs": [],
   "source": [
    "logreg_1=LogisticRegression(random_state=16)\n",
    "logreg_2=LogisticRegression(random_state=16)\n",
    "\n",
    "logreg_1.fit(X_train_1, y_train_1)\n",
    "\n",
    "y_pred_1=logreg_1.predict(X_test_1)"
   ]
  },
  {
   "cell_type": "code",
   "execution_count": 11,
   "id": "0da09fbd",
   "metadata": {},
   "outputs": [],
   "source": [
    "logreg_2.fit(X_train_2, y_train_2)\n",
    "\n",
    "y_pred_2=logreg_2.predict(X_test_2)"
   ]
  },
  {
   "cell_type": "code",
   "execution_count": 12,
   "id": "4cd9b968",
   "metadata": {},
   "outputs": [
    {
     "data": {
      "text/plain": [
       "array([[23,  0],\n",
       "       [10,  6]], dtype=int64)"
      ]
     },
     "execution_count": 12,
     "metadata": {},
     "output_type": "execute_result"
    }
   ],
   "source": [
    "cnf_matrix_1 = metrics.confusion_matrix(y_test_1, y_pred_1)\n",
    "cnf_matrix_1"
   ]
  },
  {
   "cell_type": "code",
   "execution_count": 13,
   "id": "d5c964b5",
   "metadata": {},
   "outputs": [
    {
     "data": {
      "text/plain": [
       "array([[20,  3],\n",
       "       [15,  1]], dtype=int64)"
      ]
     },
     "execution_count": 13,
     "metadata": {},
     "output_type": "execute_result"
    }
   ],
   "source": [
    "cnf_matrix_2 = metrics.confusion_matrix(y_test_2, y_pred_2)\n",
    "cnf_matrix_2"
   ]
  },
  {
   "cell_type": "code",
   "execution_count": 14,
   "id": "6c886c91",
   "metadata": {},
   "outputs": [
    {
     "data": {
      "text/plain": [
       "Text(0.5, 257.44, 'Predicted label')"
      ]
     },
     "execution_count": 14,
     "metadata": {},
     "output_type": "execute_result"
    },
    {
     "data": {
      "image/png": "[encoded data removed]",
      "text/plain": [
       "<Figure size 432x288 with 2 Axes>"
      ]
     },
     "metadata": {
      "needs_background": "light"
     },
     "output_type": "display_data"
    }
   ],
   "source": [
    "class_names=[0,1]\n",
    "fig, ax = plt.subplots()\n",
    "tick_marks = np.arange(len(class_names))\n",
    "plt.xticks(tick_marks, class_names)\n",
    "plt.yticks(tick_marks, class_names)\n",
    "\n",
    "sns.heatmap(pd.DataFrame(cnf_matrix_1), annot=True, cmap=\"YlGnBu\", fmt='g')\n",
    "ax.xaxis.set_label_position(\"top\")\n",
    "\n",
    "plt.tight_layout()\n",
    "plt.title(\"Confusion matrix\", y=1.1)\n",
    "plt.ylabel(\"Actual label\")\n",
    "plt.xlabel(\"Predicted label\")"
   ]
  },
  {
   "cell_type": "code",
   "execution_count": 15,
   "id": "b0c3d48f",
   "metadata": {},
   "outputs": [
    {
     "data": {
      "text/plain": [
       "Text(0.5, 257.44, 'Predicted label')"
      ]
     },
     "execution_count": 15,
     "metadata": {},
     "output_type": "execute_result"
    },
    {
     "data": {
      "image/png": "[encoded data removed]",
      "text/plain": [
       "<Figure size 432x288 with 2 Axes>"
      ]
     },
     "metadata": {
      "needs_background": "light"
     },
     "output_type": "display_data"
    }
   ],
   "source": [
    "class_names=[0,1]\n",
    "fig, ax = plt.subplots()\n",
    "tick_marks = np.arange(len(class_names))\n",
    "plt.xticks(tick_marks, class_names)\n",
    "plt.yticks(tick_marks, class_names)\n",
    "\n",
    "sns.heatmap(pd.DataFrame(cnf_matrix_2), annot=True, cmap=\"YlGnBu\", fmt='g')\n",
    "ax.xaxis.set_label_position(\"top\")\n",
    "\n",
    "plt.tight_layout()\n",
    "plt.title(\"Confusion matrix\", y=1.1)\n",
    "plt.ylabel(\"Actual label\")\n",
    "plt.xlabel(\"Predicted label\")"
   ]
  },
  {
   "cell_type": "code",
   "execution_count": 16,
   "id": "b220f79c",
   "metadata": {},
   "outputs": [
    {
     "name": "stdout",
     "output_type": "stream",
     "text": [
      "              precision    recall  f1-score   support\n",
      "\n",
      "     class 0       0.70      1.00      0.82        23\n",
      "     class 1       1.00      0.38      0.55        16\n",
      "\n",
      "    accuracy                           0.74        39\n",
      "   macro avg       0.85      0.69      0.68        39\n",
      "weighted avg       0.82      0.74      0.71        39\n",
      "\n"
     ]
    }
   ],
   "source": [
    "target_names=[\"class 0\", \"class 1\"]\n",
    "print(classification_report(y_test_1, y_pred_1, target_names=target_names))"
   ]
  },
  {
   "cell_type": "code",
   "execution_count": 17,
   "id": "16e6ba25",
   "metadata": {},
   "outputs": [
    {
     "name": "stdout",
     "output_type": "stream",
     "text": [
      "              precision    recall  f1-score   support\n",
      "\n",
      "     class 0       0.57      0.87      0.69        23\n",
      "     class 1       0.25      0.06      0.10        16\n",
      "\n",
      "    accuracy                           0.54        39\n",
      "   macro avg       0.41      0.47      0.39        39\n",
      "weighted avg       0.44      0.54      0.45        39\n",
      "\n"
     ]
    }
   ],
   "source": [
    "target_names=[\"class 0\", \"class 1\"]\n",
    "print(classification_report(y_test_2, y_pred_2, target_names=target_names))"
   ]
  },
  {
   "cell_type": "code",
   "execution_count": 20,
   "id": "e2287832",
   "metadata": {},
   "outputs": [
    {
     "data": {
      "image/png": "[encoded data removed]",
      "text/plain": [
       "<Figure size 432x288 with 1 Axes>"
      ]
     },
     "metadata": {
      "needs_background": "light"
     },
     "output_type": "display_data"
    }
   ],
   "source": [
    "y_pred_proba_1 = logreg_1.predict_proba(X_test_1)[::,1]\n",
    "fpr_1, tpr_1, _ = metrics.roc_curve(y_test_1, y_pred_proba_1)\n",
    "auc_1 = metrics.roc_auc_score(y_test_1, y_pred_1)\n",
    "plt.plot(fpr_1,tpr_1,label=\"data 1, auc=\"+str(auc_1))\n",
    "plt.legend(loc=4)\n",
    "plt.show()"
   ]
  },
  {
   "cell_type": "code",
   "execution_count": 21,
   "id": "07399b79",
   "metadata": {},
   "outputs": [
    {
     "data": {
      "image/png": "[encoded data removed]",
      "text/plain": [
       "<Figure size 432x288 with 1 Axes>"
      ]
     },
     "metadata": {
      "needs_background": "light"
     },
     "output_type": "display_data"
    }
   ],
   "source": [
    "y_pred_proba_2 = logreg_2.predict_proba(X_test_2)[::,1]\n",
    "fpr_2, tpr_2, _ = metrics.roc_curve(y_test_2, y_pred_proba_2)\n",
    "auc_2 = metrics.roc_auc_score(y_test_2, y_pred_2)\n",
    "plt.plot(fpr_2,tpr_2,label=\"data 2, auc=\"+str(auc_2))\n",
    "plt.legend(loc=4)\n",
    "plt.show()"
   ]
  }
 ],
 "metadata": {
  "kernelspec": {
   "display_name": "Python 3 (ipykernel)",
   "language": "python",
   "name": "python3"
  },
  "language_info": {
   "codemirror_mode": {
    "name": "ipython",
    "version": 3
   },
   "file_extension": ".py",
   "mimetype": "text/x-python",
   "name": "python",
   "nbconvert_exporter": "python",
   "pygments_lexer": "ipython3",
   "version": "3.10.9"
  }
 },
 "nbformat": 4,
 "nbformat_minor": 5
}

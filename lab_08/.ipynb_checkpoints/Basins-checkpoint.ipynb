{
 "cells": [
  {
   "cell_type": "code",
   "execution_count": 1,
   "id": "08bd5277",
   "metadata": {},
   "outputs": [],
   "source": [
    "import numpy as np\n",
    "import pandas as pd\n",
    "import matplotlib.pyplot as plt"
   ]
  },
  {
   "cell_type": "code",
   "execution_count": 2,
   "id": "75dad6b1",
   "metadata": {},
   "outputs": [],
   "source": [
    "dataset = pd.read_csv(\"VLagun_Lab_Basins.csv\")"
   ]
  },
  {
   "cell_type": "code",
   "execution_count": 3,
   "id": "ee9e0449",
   "metadata": {},
   "outputs": [
    {
     "data": {
      "text/html": [
       "<div>\n",
       "<style scoped>\n",
       "    .dataframe tbody tr th:only-of-type {\n",
       "        vertical-align: middle;\n",
       "    }\n",
       "\n",
       "    .dataframe tbody tr th {\n",
       "        vertical-align: top;\n",
       "    }\n",
       "\n",
       "    .dataframe thead th {\n",
       "        text-align: right;\n",
       "    }\n",
       "</style>\n",
       "<table border=\"1\" class=\"dataframe\">\n",
       "  <thead>\n",
       "    <tr style=\"text-align: right;\">\n",
       "      <th></th>\n",
       "      <th>PSU</th>\n",
       "      <th>O2</th>\n",
       "      <th>temp.</th>\n",
       "      <th>SS</th>\n",
       "      <th>SRP</th>\n",
       "      <th>DOP</th>\n",
       "      <th>PP</th>\n",
       "      <th>NH4N</th>\n",
       "      <th>NO3N</th>\n",
       "      <th>DON</th>\n",
       "      <th>...</th>\n",
       "      <th>DOC</th>\n",
       "      <th>TPOC</th>\n",
       "      <th>Windspeedinsitu</th>\n",
       "      <th>Depth</th>\n",
       "      <th>DINtoDIP</th>\n",
       "      <th>Cyanobacteria</th>\n",
       "      <th>Chlorophyceae</th>\n",
       "      <th>Diatomophyceae</th>\n",
       "      <th>picophytoplankton</th>\n",
       "      <th>Basin</th>\n",
       "    </tr>\n",
       "  </thead>\n",
       "  <tbody>\n",
       "    <tr>\n",
       "      <th>0</th>\n",
       "      <td>3.757624</td>\n",
       "      <td>9.46</td>\n",
       "      <td>18.3</td>\n",
       "      <td>52.0</td>\n",
       "      <td>3.5</td>\n",
       "      <td>11.7</td>\n",
       "      <td>185.0</td>\n",
       "      <td>0.039</td>\n",
       "      <td>0.022</td>\n",
       "      <td>0.551</td>\n",
       "      <td>...</td>\n",
       "      <td>7.500</td>\n",
       "      <td>8.5650</td>\n",
       "      <td>3.5</td>\n",
       "      <td>3.3</td>\n",
       "      <td>17.428571</td>\n",
       "      <td>2.35</td>\n",
       "      <td>3.08</td>\n",
       "      <td>0.230</td>\n",
       "      <td>3.20</td>\n",
       "      <td>East</td>\n",
       "    </tr>\n",
       "    <tr>\n",
       "      <th>1</th>\n",
       "      <td>3.504707</td>\n",
       "      <td>9.89</td>\n",
       "      <td>19.1</td>\n",
       "      <td>50.0</td>\n",
       "      <td>4.4</td>\n",
       "      <td>17.5</td>\n",
       "      <td>111.3</td>\n",
       "      <td>0.020</td>\n",
       "      <td>0.025</td>\n",
       "      <td>0.123</td>\n",
       "      <td>...</td>\n",
       "      <td>7.860</td>\n",
       "      <td>8.5200</td>\n",
       "      <td>0.0</td>\n",
       "      <td>3.6</td>\n",
       "      <td>10.227273</td>\n",
       "      <td>6.39</td>\n",
       "      <td>2.87</td>\n",
       "      <td>0.010</td>\n",
       "      <td>2.42</td>\n",
       "      <td>East</td>\n",
       "    </tr>\n",
       "    <tr>\n",
       "      <th>2</th>\n",
       "      <td>3.721493</td>\n",
       "      <td>9.63</td>\n",
       "      <td>17.5</td>\n",
       "      <td>62.0</td>\n",
       "      <td>11.7</td>\n",
       "      <td>13.0</td>\n",
       "      <td>117.6</td>\n",
       "      <td>0.036</td>\n",
       "      <td>0.021</td>\n",
       "      <td>0.727</td>\n",
       "      <td>...</td>\n",
       "      <td>7.535</td>\n",
       "      <td>8.4706</td>\n",
       "      <td>4.0</td>\n",
       "      <td>3.2</td>\n",
       "      <td>4.871795</td>\n",
       "      <td>2.05</td>\n",
       "      <td>7.47</td>\n",
       "      <td>0.060</td>\n",
       "      <td>2.61</td>\n",
       "      <td>East</td>\n",
       "    </tr>\n",
       "    <tr>\n",
       "      <th>3</th>\n",
       "      <td>4.407982</td>\n",
       "      <td>9.54</td>\n",
       "      <td>18.4</td>\n",
       "      <td>55.0</td>\n",
       "      <td>7.4</td>\n",
       "      <td>16.2</td>\n",
       "      <td>124.7</td>\n",
       "      <td>0.023</td>\n",
       "      <td>0.024</td>\n",
       "      <td>0.566</td>\n",
       "      <td>...</td>\n",
       "      <td>7.282</td>\n",
       "      <td>8.7020</td>\n",
       "      <td>3.5</td>\n",
       "      <td>3.0</td>\n",
       "      <td>6.351351</td>\n",
       "      <td>6.30</td>\n",
       "      <td>5.03</td>\n",
       "      <td>0.110</td>\n",
       "      <td>2.49</td>\n",
       "      <td>East</td>\n",
       "    </tr>\n",
       "    <tr>\n",
       "      <th>4</th>\n",
       "      <td>4.389916</td>\n",
       "      <td>9.34</td>\n",
       "      <td>17.8</td>\n",
       "      <td>53.0</td>\n",
       "      <td>13.8</td>\n",
       "      <td>21.4</td>\n",
       "      <td>84.4</td>\n",
       "      <td>0.031</td>\n",
       "      <td>0.030</td>\n",
       "      <td>0.022</td>\n",
       "      <td>...</td>\n",
       "      <td>7.370</td>\n",
       "      <td>7.8796</td>\n",
       "      <td>4.0</td>\n",
       "      <td>3.7</td>\n",
       "      <td>4.420290</td>\n",
       "      <td>3.77</td>\n",
       "      <td>5.69</td>\n",
       "      <td>0.005</td>\n",
       "      <td>1.73</td>\n",
       "      <td>East</td>\n",
       "    </tr>\n",
       "  </tbody>\n",
       "</table>\n",
       "<p>5 rows × 24 columns</p>\n",
       "</div>"
      ],
      "text/plain": [
       "        PSU    O2  temp.    SS   SRP   DOP     PP   NH4N   NO3N    DON  ...  \\\n",
       "0  3.757624  9.46   18.3  52.0   3.5  11.7  185.0  0.039  0.022  0.551  ...   \n",
       "1  3.504707  9.89   19.1  50.0   4.4  17.5  111.3  0.020  0.025  0.123  ...   \n",
       "2  3.721493  9.63   17.5  62.0  11.7  13.0  117.6  0.036  0.021  0.727  ...   \n",
       "3  4.407982  9.54   18.4  55.0   7.4  16.2  124.7  0.023  0.024  0.566  ...   \n",
       "4  4.389916  9.34   17.8  53.0  13.8  21.4   84.4  0.031  0.030  0.022  ...   \n",
       "\n",
       "     DOC    TPOC  Windspeedinsitu  Depth   DINtoDIP  Cyanobacteria  \\\n",
       "0  7.500  8.5650              3.5    3.3  17.428571           2.35   \n",
       "1  7.860  8.5200              0.0    3.6  10.227273           6.39   \n",
       "2  7.535  8.4706              4.0    3.2   4.871795           2.05   \n",
       "3  7.282  8.7020              3.5    3.0   6.351351           6.30   \n",
       "4  7.370  7.8796              4.0    3.7   4.420290           3.77   \n",
       "\n",
       "   Chlorophyceae  Diatomophyceae  picophytoplankton  Basin  \n",
       "0           3.08           0.230               3.20   East  \n",
       "1           2.87           0.010               2.42   East  \n",
       "2           7.47           0.060               2.61   East  \n",
       "3           5.03           0.110               2.49   East  \n",
       "4           5.69           0.005               1.73   East  \n",
       "\n",
       "[5 rows x 24 columns]"
      ]
     },
     "execution_count": 3,
     "metadata": {},
     "output_type": "execute_result"
    }
   ],
   "source": [
    "dataset.head()"
   ]
  },
  {
   "cell_type": "code",
   "execution_count": 4,
   "id": "f1e6ba85",
   "metadata": {},
   "outputs": [],
   "source": [
    "East = dataset[dataset.Basin == \"East\"]"
   ]
  },
  {
   "cell_type": "code",
   "execution_count": 5,
   "id": "8fd7efe6",
   "metadata": {},
   "outputs": [],
   "source": [
    "West = dataset[dataset.Basin == \"West\"]"
   ]
  },
  {
   "cell_type": "code",
   "execution_count": 6,
   "id": "f89439d8",
   "metadata": {},
   "outputs": [
    {
     "data": {
      "image/png": "[encoded data removed]",
      "text/plain": [
       "<Figure size 640x480 with 1 Axes>"
      ]
     },
     "metadata": {},
     "output_type": "display_data"
    }
   ],
   "source": [
    "plt.title(\"Windspeedinsitu vs DOC Basin\")\n",
    "plt.xlabel(\"Windspeedinsitu\")\n",
    "plt.ylabel(\"DOC\")\n",
    "plt.scatter(East.Windspeedinsitu, East.DOC, color=\"red\", label =\"East\", alpha=.5)\n",
    "plt.scatter(West.Windspeedinsitu, West.DOC, color=\"lime\", label =\"West\", alpha=.5)\n",
    "plt.legend()\n",
    "plt.show()"
   ]
  },
  {
   "cell_type": "code",
   "execution_count": 7,
   "id": "05ef551a",
   "metadata": {},
   "outputs": [],
   "source": [
    "dataset.Basin =[1 if i==\"Windspeedinsitu\" else 0 for i in dataset.Basin]"
   ]
  },
  {
   "cell_type": "code",
   "execution_count": 8,
   "id": "714a8c5b",
   "metadata": {},
   "outputs": [],
   "source": [
    "x = dataset.drop([\"Basin\"], axis=1)\n",
    "y = dataset.Basin.values"
   ]
  },
  {
   "cell_type": "code",
   "execution_count": 9,
   "id": "199ed598",
   "metadata": {},
   "outputs": [
    {
     "name": "stderr",
     "output_type": "stream",
     "text": [
      "C:\\Users\\adamz\\miniconda3\\lib\\site-packages\\numpy\\core\\fromnumeric.py:84: FutureWarning: In a future version, DataFrame.min(axis=None) will return a scalar min over the entire DataFrame. To retain the old behavior, use 'frame.min(axis=0)' or just 'frame.min()'\n",
      "  return reduction(axis=axis, out=out, **passkwargs)\n",
      "C:\\Users\\adamz\\miniconda3\\lib\\site-packages\\numpy\\core\\fromnumeric.py:84: FutureWarning: In a future version, DataFrame.max(axis=None) will return a scalar max over the entire DataFrame. To retain the old behavior, use 'frame.max(axis=0)' or just 'frame.max()'\n",
      "  return reduction(axis=axis, out=out, **passkwargs)\n",
      "C:\\Users\\adamz\\miniconda3\\lib\\site-packages\\numpy\\core\\fromnumeric.py:84: FutureWarning: In a future version, DataFrame.min(axis=None) will return a scalar min over the entire DataFrame. To retain the old behavior, use 'frame.min(axis=0)' or just 'frame.min()'\n",
      "  return reduction(axis=axis, out=out, **passkwargs)\n"
     ]
    }
   ],
   "source": [
    "x = (x-np.min(x))/(np.max(x)-np.min(x))"
   ]
  },
  {
   "cell_type": "code",
   "execution_count": 10,
   "id": "e95e8444",
   "metadata": {},
   "outputs": [],
   "source": [
    "from sklearn.model_selection import train_test_split\n",
    "\n",
    "x_train, x_test, y_train, y_test = train_test_split(x, y, test_size=.3, random_state=42)"
   ]
  },
  {
   "cell_type": "code",
   "execution_count": 11,
   "id": "380b5ea4",
   "metadata": {},
   "outputs": [
    {
     "data": {
      "text/html": [
       "<style>#sk-container-id-1 {color: black;background-color: white;}#sk-container-id-1 pre{padding: 0;}#sk-container-id-1 div.sk-toggleable {background-color: white;}#sk-container-id-1 label.sk-toggleable__label {cursor: pointer;display: block;width: 100%;margin-bottom: 0;padding: 0.3em;box-sizing: border-box;text-align: center;}#sk-container-id-1 label.sk-toggleable__label-arrow:before {content: \"▸\";float: left;margin-right: 0.25em;color: #696969;}#sk-container-id-1 label.sk-toggleable__label-arrow:hover:before {color: black;}#sk-container-id-1 div.sk-estimator:hover label.sk-toggleable__label-arrow:before {color: black;}#sk-container-id-1 div.sk-toggleable__content {max-height: 0;max-width: 0;overflow: hidden;text-align: left;background-color: #f0f8ff;}#sk-container-id-1 div.sk-toggleable__content pre {margin: 0.2em;color: black;border-radius: 0.25em;background-color: #f0f8ff;}#sk-container-id-1 input.sk-toggleable__control:checked~div.sk-toggleable__content {max-height: 200px;max-width: 100%;overflow: auto;}#sk-container-id-1 input.sk-toggleable__control:checked~label.sk-toggleable__label-arrow:before {content: \"▾\";}#sk-container-id-1 div.sk-estimator input.sk-toggleable__control:checked~label.sk-toggleable__label {background-color: #d4ebff;}#sk-container-id-1 div.sk-label input.sk-toggleable__control:checked~label.sk-toggleable__label {background-color: #d4ebff;}#sk-container-id-1 input.sk-hidden--visually {border: 0;clip: rect(1px 1px 1px 1px);clip: rect(1px, 1px, 1px, 1px);height: 1px;margin: -1px;overflow: hidden;padding: 0;position: absolute;width: 1px;}#sk-container-id-1 div.sk-estimator {font-family: monospace;background-color: #f0f8ff;border: 1px dotted black;border-radius: 0.25em;box-sizing: border-box;margin-bottom: 0.5em;}#sk-container-id-1 div.sk-estimator:hover {background-color: #d4ebff;}#sk-container-id-1 div.sk-parallel-item::after {content: \"\";width: 100%;border-bottom: 1px solid gray;flex-grow: 1;}#sk-container-id-1 div.sk-label:hover label.sk-toggleable__label {background-color: #d4ebff;}#sk-container-id-1 div.sk-serial::before {content: \"\";position: absolute;border-left: 1px solid gray;box-sizing: border-box;top: 0;bottom: 0;left: 50%;z-index: 0;}#sk-container-id-1 div.sk-serial {display: flex;flex-direction: column;align-items: center;background-color: white;padding-right: 0.2em;padding-left: 0.2em;position: relative;}#sk-container-id-1 div.sk-item {position: relative;z-index: 1;}#sk-container-id-1 div.sk-parallel {display: flex;align-items: stretch;justify-content: center;background-color: white;position: relative;}#sk-container-id-1 div.sk-item::before, #sk-container-id-1 div.sk-parallel-item::before {content: \"\";position: absolute;border-left: 1px solid gray;box-sizing: border-box;top: 0;bottom: 0;left: 50%;z-index: -1;}#sk-container-id-1 div.sk-parallel-item {display: flex;flex-direction: column;z-index: 1;position: relative;background-color: white;}#sk-container-id-1 div.sk-parallel-item:first-child::after {align-self: flex-end;width: 50%;}#sk-container-id-1 div.sk-parallel-item:last-child::after {align-self: flex-start;width: 50%;}#sk-container-id-1 div.sk-parallel-item:only-child::after {width: 0;}#sk-container-id-1 div.sk-dashed-wrapped {border: 1px dashed gray;margin: 0 0.4em 0.5em 0.4em;box-sizing: border-box;padding-bottom: 0.4em;background-color: white;}#sk-container-id-1 div.sk-label label {font-family: monospace;font-weight: bold;display: inline-block;line-height: 1.2em;}#sk-container-id-1 div.sk-label-container {text-align: center;}#sk-container-id-1 div.sk-container {/* jupyter's `normalize.less` sets `[hidden] { display: none; }` but bootstrap.min.css set `[hidden] { display: none !important; }` so we also need the `!important` here to be able to override the default hidden behavior on the sphinx rendered scikit-learn.org. See: https://github.com/scikit-learn/scikit-learn/issues/21755 */display: inline-block !important;position: relative;}#sk-container-id-1 div.sk-text-repr-fallback {display: none;}</style><div id=\"sk-container-id-1\" class=\"sk-top-container\"><div class=\"sk-text-repr-fallback\"><pre>GaussianNB()</pre><b>In a Jupyter environment, please rerun this cell to show the HTML representation or trust the notebook. <br />On GitHub, the HTML representation is unable to render, please try loading this page with nbviewer.org.</b></div><div class=\"sk-container\" hidden><div class=\"sk-item\"><div class=\"sk-estimator sk-toggleable\"><input class=\"sk-toggleable__control sk-hidden--visually\" id=\"sk-estimator-id-1\" type=\"checkbox\" checked><label for=\"sk-estimator-id-1\" class=\"sk-toggleable__label sk-toggleable__label-arrow\">GaussianNB</label><div class=\"sk-toggleable__content\"><pre>GaussianNB()</pre></div></div></div></div></div>"
      ],
      "text/plain": [
       "GaussianNB()"
      ]
     },
     "execution_count": 11,
     "metadata": {},
     "output_type": "execute_result"
    }
   ],
   "source": [
    "from sklearn.naive_bayes import GaussianNB\n",
    "nb=GaussianNB()\n",
    "nb.fit(x_train,y_train)"
   ]
  },
  {
   "cell_type": "code",
   "execution_count": 12,
   "id": "d78a6b67",
   "metadata": {},
   "outputs": [
    {
     "name": "stdout",
     "output_type": "stream",
     "text": [
      "Naive Bayes score:  1.0\n"
     ]
    }
   ],
   "source": [
    "print(\"Naive Bayes score: \",nb.score(x_test, y_test))"
   ]
  }
 ],
 "metadata": {
  "kernelspec": {
   "display_name": "Python 3 (ipykernel)",
   "language": "python",
   "name": "python3"
  },
  "language_info": {
   "codemirror_mode": {
    "name": "ipython",
    "version": 3
   },
   "file_extension": ".py",
   "mimetype": "text/x-python",
   "name": "python",
   "nbconvert_exporter": "python",
   "pygments_lexer": "ipython3",
   "version": "3.10.9"
  }
 },
 "nbformat": 4,
 "nbformat_minor": 5
}
